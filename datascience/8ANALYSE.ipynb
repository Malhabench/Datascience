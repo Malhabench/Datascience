{
 "cells": [
  {
   "cell_type": "code",
   "execution_count": 42,
   "id": "6328289c-b415-4fab-85c9-598c44d3566c",
   "metadata": {},
   "outputs": [],
   "source": [
    "import pandas as pd \n",
    "df=pd.read_csv(\"data.csv\")\n"
   ]
  },
  {
   "cell_type": "code",
   "execution_count": 45,
   "id": "99a6180f-d468-4d84-a48d-60e50c8ea12e",
   "metadata": {},
   "outputs": [
    {
     "data": {
      "text/plain": [
       "count      1000\n",
       "unique      528\n",
       "top       $3.73\n",
       "freq          8\n",
       "Name: price_paid, dtype: object"
      ]
     },
     "execution_count": 45,
     "metadata": {},
     "output_type": "execute_result"
    }
   ],
   "source": [
    "df[\"price_paid\"].describe()"
   ]
  },
  {
   "cell_type": "code",
   "execution_count": 46,
   "id": "6e4f58de-b449-4fad-a107-53b30ce880c6",
   "metadata": {},
   "outputs": [],
   "source": [
    "df.price_paid=df.price_paid.apply(lambda x: x.replace(\"$\" ,\"\"))\n",
    "df.price_paid=df.price_paid.astype(float)\n",
    "                                  "
   ]
  },
  {
   "cell_type": "code",
   "execution_count": 47,
   "id": "4349c90c-79f4-4441-b43b-4d8571cb166d",
   "metadata": {},
   "outputs": [
    {
     "data": {
      "text/plain": [
       "6.461930000000001"
      ]
     },
     "execution_count": 47,
     "metadata": {},
     "output_type": "execute_result"
    }
   ],
   "source": [
    "df[\"price_paid\"].mean()"
   ]
  },
  {
   "cell_type": "markdown",
   "id": "fc844fc6-4834-41c6-b8b0-181e57a15e71",
   "metadata": {},
   "source": [
    "la somme "
   ]
  },
  {
   "cell_type": "code",
   "execution_count": 48,
   "id": "8f66764a-6e73-46f4-9342-bb515f09e1c6",
   "metadata": {},
   "outputs": [
    {
     "data": {
      "text/plain": [
       "6461.93"
      ]
     },
     "execution_count": 48,
     "metadata": {},
     "output_type": "execute_result"
    }
   ],
   "source": [
    "df[\"price_paid\"].sum()"
   ]
  },
  {
   "cell_type": "code",
   "execution_count": 49,
   "id": "3a03e518-4898-4d01-ba70-3fe564164cfe",
   "metadata": {},
   "outputs": [
    {
     "data": {
      "text/plain": [
       "3.0"
      ]
     },
     "execution_count": 49,
     "metadata": {},
     "output_type": "execute_result"
    }
   ],
   "source": [
    "df[\"price_paid\"].min()"
   ]
  },
  {
   "cell_type": "code",
   "execution_count": 50,
   "id": "9c54e0be-d650-4932-a5e2-a889e9895828",
   "metadata": {},
   "outputs": [
    {
     "data": {
      "text/plain": [
       "10.0"
      ]
     },
     "execution_count": 50,
     "metadata": {},
     "output_type": "execute_result"
    }
   ],
   "source": [
    "df[\"price_paid\"].max()"
   ]
  },
  {
   "cell_type": "code",
   "execution_count": 52,
   "id": "ba3cc992-698a-4a08-81df-6f63148292c7",
   "metadata": {},
   "outputs": [
    {
     "data": {
      "text/plain": [
       "array(['Canada', 'United States', 'Morocco', 'France', nan], dtype=object)"
      ]
     },
     "execution_count": 52,
     "metadata": {},
     "output_type": "execute_result"
    }
   ],
   "source": [
    "df[\"country\"].unique()"
   ]
  },
  {
   "cell_type": "code",
   "execution_count": 54,
   "id": "99788445-4b45-4037-8c56-38fb2afbcdcb",
   "metadata": {},
   "outputs": [
    {
     "data": {
      "text/plain": [
       "country\n",
       "France           408\n",
       "United States    333\n",
       "Canada           161\n",
       "Morocco           54\n",
       "Name: count, dtype: int64"
      ]
     },
     "execution_count": 54,
     "metadata": {},
     "output_type": "execute_result"
    }
   ],
   "source": [
    "df[\"country\"].value_counts()"
   ]
  },
  {
   "cell_type": "code",
   "execution_count": 55,
   "id": "149f691d-cca8-45af-9eda-1d35f79f8030",
   "metadata": {},
   "outputs": [
    {
     "data": {
      "text/plain": [
       "gender\n",
       "Female    493\n",
       "Male      438\n",
       "Name: count, dtype: int64"
      ]
     },
     "execution_count": 55,
     "metadata": {},
     "output_type": "execute_result"
    }
   ],
   "source": [
    "df[\"gender\"].value_counts()"
   ]
  },
  {
   "cell_type": "markdown",
   "id": "55d69221-aa71-46da-b23e-645031a20a1a",
   "metadata": {},
   "source": [
    "count values in a column"
   ]
  },
  {
   "cell_type": "code",
   "execution_count": 56,
   "id": "9da87ffe-2f37-4ee2-ad5e-357b0c500b5f",
   "metadata": {},
   "outputs": [
    {
     "data": {
      "text/plain": [
       "gender\n",
       "Female    493\n",
       "Male      438\n",
       "Name: count, dtype: int64"
      ]
     },
     "execution_count": 56,
     "metadata": {},
     "output_type": "execute_result"
    }
   ],
   "source": [
    "df[\"gender\"].value_counts()"
   ]
  },
  {
   "cell_type": "code",
   "execution_count": 57,
   "id": "56bc42e4-ce9e-4419-97be-3546eaa2f014",
   "metadata": {},
   "outputs": [
    {
     "data": {
      "text/plain": [
       "country\n",
       "France           408\n",
       "United States    333\n",
       "Canada           161\n",
       "Morocco           54\n",
       "Name: count, dtype: int64"
      ]
     },
     "execution_count": 57,
     "metadata": {},
     "output_type": "execute_result"
    }
   ],
   "source": [
    "df[\"country\"].value_counts()"
   ]
  },
  {
   "cell_type": "code",
   "execution_count": 1,
   "id": "37c9731e-9e37-4f79-9e69-6e7c1241bb0d",
   "metadata": {},
   "outputs": [
    {
     "ename": "NameError",
     "evalue": "name 'df' is not defined",
     "output_type": "error",
     "traceback": [
      "\u001b[1;31m---------------------------------------------------------------------------\u001b[0m",
      "\u001b[1;31mNameError\u001b[0m                                 Traceback (most recent call last)",
      "Cell \u001b[1;32mIn[1], line 1\u001b[0m\n\u001b[1;32m----> 1\u001b[0m \u001b[43mdf\u001b[49m[\u001b[38;5;124m\"\u001b[39m\u001b[38;5;124mcountry\u001b[39m\u001b[38;5;124m\"\u001b[39m]\u001b[38;5;241m.\u001b[39mvalue_counts(normalize\u001b[38;5;241m=\u001b[39m\u001b[38;5;28;01mTrue\u001b[39;00m)\n",
      "\u001b[1;31mNameError\u001b[0m: name 'df' is not defined"
     ]
    }
   ],
   "source": [
    "df[\"country\"].value_counts(normalize=True)"
   ]
  },
  {
   "cell_type": "code",
   "execution_count": 2,
   "id": "196c624a-3df3-4f04-8fde-40b432fb0080",
   "metadata": {},
   "outputs": [
    {
     "ename": "NameError",
     "evalue": "name 'pd' is not defined",
     "output_type": "error",
     "traceback": [
      "\u001b[1;31m---------------------------------------------------------------------------\u001b[0m",
      "\u001b[1;31mNameError\u001b[0m                                 Traceback (most recent call last)",
      "Cell \u001b[1;32mIn[2], line 1\u001b[0m\n\u001b[1;32m----> 1\u001b[0m df\u001b[38;5;241m=\u001b[39m\u001b[43mpd\u001b[49m\u001b[38;5;241m.\u001b[39mread_csv(\u001b[38;5;124m\"\u001b[39m\u001b[38;5;124mdata.csv\u001b[39m\u001b[38;5;124m\"\u001b[39m)\n",
      "\u001b[1;31mNameError\u001b[0m: name 'pd' is not defined"
     ]
    }
   ],
   "source": [
    "df=pd.read_csv(\"data.csv\")"
   ]
  },
  {
   "cell_type": "code",
   "execution_count": 3,
   "id": "5ca93053-f007-4ece-b67e-9428fcf71422",
   "metadata": {},
   "outputs": [],
   "source": [
    "import pandas as pd\n",
    "df=pd.read_csv(\"data.csv\")"
   ]
  },
  {
   "cell_type": "code",
   "execution_count": 4,
   "id": "1d3220c7-d67c-4240-8833-17417ac12346",
   "metadata": {},
   "outputs": [
    {
     "data": {
      "text/plain": [
       "country\n",
       "France           0.426778\n",
       "United States    0.348326\n",
       "Canada           0.168410\n",
       "Morocco          0.056485\n",
       "Name: proportion, dtype: float64"
      ]
     },
     "execution_count": 4,
     "metadata": {},
     "output_type": "execute_result"
    }
   ],
   "source": [
    "df[\"country\"].value_counts(normalize=True)"
   ]
  },
  {
   "cell_type": "code",
   "execution_count": 5,
   "id": "85bf2454-24c4-4a9d-babb-fbcc4e762a6e",
   "metadata": {},
   "outputs": [
    {
     "data": {
      "text/plain": [
       "gender\n",
       "Female    0.529538\n",
       "Male      0.470462\n",
       "Name: proportion, dtype: float64"
      ]
     },
     "execution_count": 5,
     "metadata": {},
     "output_type": "execute_result"
    }
   ],
   "source": [
    "df[\"gender\"].value_counts(normalize=True)"
   ]
  },
  {
   "cell_type": "code",
   "execution_count": 6,
   "id": "9b85ee2e-7048-4258-9f68-d3037229a6b9",
   "metadata": {},
   "outputs": [],
   "source": [
    "df[\"malha\"]=0"
   ]
  },
  {
   "cell_type": "code",
   "execution_count": 7,
   "id": "bb7be823-9eb7-46d8-b8de-767dc637011a",
   "metadata": {},
   "outputs": [
    {
     "data": {
      "text/html": [
       "<div>\n",
       "<style scoped>\n",
       "    .dataframe tbody tr th:only-of-type {\n",
       "        vertical-align: middle;\n",
       "    }\n",
       "\n",
       "    .dataframe tbody tr th {\n",
       "        vertical-align: top;\n",
       "    }\n",
       "\n",
       "    .dataframe thead th {\n",
       "        text-align: right;\n",
       "    }\n",
       "</style>\n",
       "<table border=\"1\" class=\"dataframe\">\n",
       "  <thead>\n",
       "    <tr style=\"text-align: right;\">\n",
       "      <th></th>\n",
       "      <th>id</th>\n",
       "      <th>date</th>\n",
       "      <th>first_name</th>\n",
       "      <th>last_name</th>\n",
       "      <th>email</th>\n",
       "      <th>gender</th>\n",
       "      <th>ip_address</th>\n",
       "      <th>country</th>\n",
       "      <th>price_paid</th>\n",
       "      <th>tax</th>\n",
       "      <th>malha</th>\n",
       "    </tr>\n",
       "  </thead>\n",
       "  <tbody>\n",
       "    <tr>\n",
       "      <th>0</th>\n",
       "      <td>1</td>\n",
       "      <td>03/28/2021</td>\n",
       "      <td>Marylin</td>\n",
       "      <td>Alders</td>\n",
       "      <td>malders0@shop-pro.jp</td>\n",
       "      <td>Male</td>\n",
       "      <td>160.119.8.119</td>\n",
       "      <td>Canada</td>\n",
       "      <td>$5.36</td>\n",
       "      <td>NaN</td>\n",
       "      <td>0</td>\n",
       "    </tr>\n",
       "    <tr>\n",
       "      <th>1</th>\n",
       "      <td>2</td>\n",
       "      <td>03/19/2021</td>\n",
       "      <td>Hinda</td>\n",
       "      <td>Harridge</td>\n",
       "      <td>hharridge1@gnu.org</td>\n",
       "      <td>Female</td>\n",
       "      <td>210.51.172.132</td>\n",
       "      <td>Canada</td>\n",
       "      <td>$8.32</td>\n",
       "      <td>NaN</td>\n",
       "      <td>0</td>\n",
       "    </tr>\n",
       "    <tr>\n",
       "      <th>2</th>\n",
       "      <td>3</td>\n",
       "      <td>03/17/2021</td>\n",
       "      <td>Erl</td>\n",
       "      <td>Kilminster</td>\n",
       "      <td>ekilminster2@etsy.com</td>\n",
       "      <td>Male</td>\n",
       "      <td>213.8.101.145</td>\n",
       "      <td>United States</td>\n",
       "      <td>$3.73</td>\n",
       "      <td>20.0</td>\n",
       "      <td>0</td>\n",
       "    </tr>\n",
       "    <tr>\n",
       "      <th>3</th>\n",
       "      <td>4</td>\n",
       "      <td>03/19/2021</td>\n",
       "      <td>Grata</td>\n",
       "      <td>Brantl</td>\n",
       "      <td>gbrantl3@umn.edu</td>\n",
       "      <td>Female</td>\n",
       "      <td>5.140.237.101</td>\n",
       "      <td>United States</td>\n",
       "      <td>$3.70</td>\n",
       "      <td>20.0</td>\n",
       "      <td>0</td>\n",
       "    </tr>\n",
       "    <tr>\n",
       "      <th>4</th>\n",
       "      <td>5</td>\n",
       "      <td>03/24/2021</td>\n",
       "      <td>Kanya</td>\n",
       "      <td>Beasant</td>\n",
       "      <td>kbeasant4@jigsy.com</td>\n",
       "      <td>Male</td>\n",
       "      <td>106.252.162.233</td>\n",
       "      <td>Morocco</td>\n",
       "      <td>$9.24</td>\n",
       "      <td>20.0</td>\n",
       "      <td>0</td>\n",
       "    </tr>\n",
       "    <tr>\n",
       "      <th>...</th>\n",
       "      <td>...</td>\n",
       "      <td>...</td>\n",
       "      <td>...</td>\n",
       "      <td>...</td>\n",
       "      <td>...</td>\n",
       "      <td>...</td>\n",
       "      <td>...</td>\n",
       "      <td>...</td>\n",
       "      <td>...</td>\n",
       "      <td>...</td>\n",
       "      <td>...</td>\n",
       "    </tr>\n",
       "    <tr>\n",
       "      <th>995</th>\n",
       "      <td>996</td>\n",
       "      <td>03/24/2021</td>\n",
       "      <td>Duff</td>\n",
       "      <td>Errigo</td>\n",
       "      <td>derrigorn@elpais.com</td>\n",
       "      <td>Female</td>\n",
       "      <td>193.84.247.144</td>\n",
       "      <td>France</td>\n",
       "      <td>$3.63</td>\n",
       "      <td>NaN</td>\n",
       "      <td>0</td>\n",
       "    </tr>\n",
       "    <tr>\n",
       "      <th>996</th>\n",
       "      <td>997</td>\n",
       "      <td>03/17/2021</td>\n",
       "      <td>Ame</td>\n",
       "      <td>Rastall</td>\n",
       "      <td>arastallro@toplist.cz</td>\n",
       "      <td>Female</td>\n",
       "      <td>188.219.12.109</td>\n",
       "      <td>NaN</td>\n",
       "      <td>$4.59</td>\n",
       "      <td>20.0</td>\n",
       "      <td>0</td>\n",
       "    </tr>\n",
       "    <tr>\n",
       "      <th>997</th>\n",
       "      <td>998</td>\n",
       "      <td>03/13/2021</td>\n",
       "      <td>Betty</td>\n",
       "      <td>Stickels</td>\n",
       "      <td>bstickelsrp@cloudflare.com</td>\n",
       "      <td>Male</td>\n",
       "      <td>199.80.60.87</td>\n",
       "      <td>United States</td>\n",
       "      <td>$7.54</td>\n",
       "      <td>20.0</td>\n",
       "      <td>0</td>\n",
       "    </tr>\n",
       "    <tr>\n",
       "      <th>998</th>\n",
       "      <td>999</td>\n",
       "      <td>03/17/2021</td>\n",
       "      <td>Paquito</td>\n",
       "      <td>Tesoe</td>\n",
       "      <td>ptesoerq@rakuten.co.jp</td>\n",
       "      <td>Male</td>\n",
       "      <td>0.183.63.11</td>\n",
       "      <td>United States</td>\n",
       "      <td>$5.81</td>\n",
       "      <td>NaN</td>\n",
       "      <td>0</td>\n",
       "    </tr>\n",
       "    <tr>\n",
       "      <th>999</th>\n",
       "      <td>1000</td>\n",
       "      <td>03/23/2021</td>\n",
       "      <td>Rochelle</td>\n",
       "      <td>Pringuer</td>\n",
       "      <td>rpringuerrr@house.gov</td>\n",
       "      <td>NaN</td>\n",
       "      <td>170.193.249.83</td>\n",
       "      <td>Canada</td>\n",
       "      <td>$8.01</td>\n",
       "      <td>20.0</td>\n",
       "      <td>0</td>\n",
       "    </tr>\n",
       "  </tbody>\n",
       "</table>\n",
       "<p>1000 rows × 11 columns</p>\n",
       "</div>"
      ],
      "text/plain": [
       "       id        date first_name   last_name                       email  \\\n",
       "0       1  03/28/2021    Marylin      Alders        malders0@shop-pro.jp   \n",
       "1       2  03/19/2021      Hinda    Harridge          hharridge1@gnu.org   \n",
       "2       3  03/17/2021        Erl  Kilminster       ekilminster2@etsy.com   \n",
       "3       4  03/19/2021      Grata      Brantl            gbrantl3@umn.edu   \n",
       "4       5  03/24/2021      Kanya     Beasant         kbeasant4@jigsy.com   \n",
       "..    ...         ...        ...         ...                         ...   \n",
       "995   996  03/24/2021       Duff      Errigo        derrigorn@elpais.com   \n",
       "996   997  03/17/2021        Ame     Rastall       arastallro@toplist.cz   \n",
       "997   998  03/13/2021      Betty    Stickels  bstickelsrp@cloudflare.com   \n",
       "998   999  03/17/2021    Paquito       Tesoe      ptesoerq@rakuten.co.jp   \n",
       "999  1000  03/23/2021   Rochelle    Pringuer       rpringuerrr@house.gov   \n",
       "\n",
       "     gender       ip_address        country price_paid   tax  malha  \n",
       "0      Male    160.119.8.119         Canada      $5.36   NaN      0  \n",
       "1    Female   210.51.172.132         Canada      $8.32   NaN      0  \n",
       "2      Male    213.8.101.145  United States      $3.73  20.0      0  \n",
       "3    Female    5.140.237.101  United States      $3.70  20.0      0  \n",
       "4      Male  106.252.162.233        Morocco      $9.24  20.0      0  \n",
       "..      ...              ...            ...        ...   ...    ...  \n",
       "995  Female   193.84.247.144         France      $3.63   NaN      0  \n",
       "996  Female   188.219.12.109            NaN      $4.59  20.0      0  \n",
       "997    Male     199.80.60.87  United States      $7.54  20.0      0  \n",
       "998    Male      0.183.63.11  United States      $5.81   NaN      0  \n",
       "999     NaN   170.193.249.83         Canada      $8.01  20.0      0  \n",
       "\n",
       "[1000 rows x 11 columns]"
      ]
     },
     "execution_count": 7,
     "metadata": {},
     "output_type": "execute_result"
    }
   ],
   "source": [
    "df"
   ]
  },
  {
   "cell_type": "code",
   "execution_count": 8,
   "id": "36dc0bef-7e83-4216-a59d-4ec944c7c585",
   "metadata": {},
   "outputs": [
    {
     "data": {
      "text/html": [
       "<div>\n",
       "<style scoped>\n",
       "    .dataframe tbody tr th:only-of-type {\n",
       "        vertical-align: middle;\n",
       "    }\n",
       "\n",
       "    .dataframe tbody tr th {\n",
       "        vertical-align: top;\n",
       "    }\n",
       "\n",
       "    .dataframe thead th {\n",
       "        text-align: right;\n",
       "    }\n",
       "</style>\n",
       "<table border=\"1\" class=\"dataframe\">\n",
       "  <thead>\n",
       "    <tr style=\"text-align: right;\">\n",
       "      <th></th>\n",
       "      <th>id</th>\n",
       "      <th>date</th>\n",
       "      <th>first_name</th>\n",
       "      <th>last_name</th>\n",
       "      <th>email</th>\n",
       "      <th>gender</th>\n",
       "      <th>ip_address</th>\n",
       "      <th>country</th>\n",
       "      <th>price_paid</th>\n",
       "      <th>tax</th>\n",
       "      <th>malha</th>\n",
       "    </tr>\n",
       "  </thead>\n",
       "  <tbody>\n",
       "    <tr>\n",
       "      <th>0</th>\n",
       "      <td>1</td>\n",
       "      <td>03/28/2021</td>\n",
       "      <td>Marylin</td>\n",
       "      <td>Alders</td>\n",
       "      <td>malders0@shop-pro.jp</td>\n",
       "      <td>Male</td>\n",
       "      <td>160.119.8.119</td>\n",
       "      <td>Canada</td>\n",
       "      <td>$5.36</td>\n",
       "      <td>NaN</td>\n",
       "      <td>0</td>\n",
       "    </tr>\n",
       "    <tr>\n",
       "      <th>1</th>\n",
       "      <td>2</td>\n",
       "      <td>03/19/2021</td>\n",
       "      <td>Hinda</td>\n",
       "      <td>Harridge</td>\n",
       "      <td>hharridge1@gnu.org</td>\n",
       "      <td>Female</td>\n",
       "      <td>210.51.172.132</td>\n",
       "      <td>Canada</td>\n",
       "      <td>$8.32</td>\n",
       "      <td>NaN</td>\n",
       "      <td>0</td>\n",
       "    </tr>\n",
       "    <tr>\n",
       "      <th>2</th>\n",
       "      <td>3</td>\n",
       "      <td>03/17/2021</td>\n",
       "      <td>Erl</td>\n",
       "      <td>Kilminster</td>\n",
       "      <td>ekilminster2@etsy.com</td>\n",
       "      <td>Male</td>\n",
       "      <td>213.8.101.145</td>\n",
       "      <td>United States</td>\n",
       "      <td>$3.73</td>\n",
       "      <td>20.0</td>\n",
       "      <td>0</td>\n",
       "    </tr>\n",
       "    <tr>\n",
       "      <th>3</th>\n",
       "      <td>4</td>\n",
       "      <td>03/19/2021</td>\n",
       "      <td>Grata</td>\n",
       "      <td>Brantl</td>\n",
       "      <td>gbrantl3@umn.edu</td>\n",
       "      <td>Female</td>\n",
       "      <td>5.140.237.101</td>\n",
       "      <td>United States</td>\n",
       "      <td>$3.70</td>\n",
       "      <td>20.0</td>\n",
       "      <td>0</td>\n",
       "    </tr>\n",
       "    <tr>\n",
       "      <th>4</th>\n",
       "      <td>5</td>\n",
       "      <td>03/24/2021</td>\n",
       "      <td>Kanya</td>\n",
       "      <td>Beasant</td>\n",
       "      <td>kbeasant4@jigsy.com</td>\n",
       "      <td>Male</td>\n",
       "      <td>106.252.162.233</td>\n",
       "      <td>Morocco</td>\n",
       "      <td>$9.24</td>\n",
       "      <td>20.0</td>\n",
       "      <td>0</td>\n",
       "    </tr>\n",
       "    <tr>\n",
       "      <th>...</th>\n",
       "      <td>...</td>\n",
       "      <td>...</td>\n",
       "      <td>...</td>\n",
       "      <td>...</td>\n",
       "      <td>...</td>\n",
       "      <td>...</td>\n",
       "      <td>...</td>\n",
       "      <td>...</td>\n",
       "      <td>...</td>\n",
       "      <td>...</td>\n",
       "      <td>...</td>\n",
       "    </tr>\n",
       "    <tr>\n",
       "      <th>995</th>\n",
       "      <td>996</td>\n",
       "      <td>03/24/2021</td>\n",
       "      <td>Duff</td>\n",
       "      <td>Errigo</td>\n",
       "      <td>derrigorn@elpais.com</td>\n",
       "      <td>Female</td>\n",
       "      <td>193.84.247.144</td>\n",
       "      <td>France</td>\n",
       "      <td>$3.63</td>\n",
       "      <td>NaN</td>\n",
       "      <td>0</td>\n",
       "    </tr>\n",
       "    <tr>\n",
       "      <th>996</th>\n",
       "      <td>997</td>\n",
       "      <td>03/17/2021</td>\n",
       "      <td>Ame</td>\n",
       "      <td>Rastall</td>\n",
       "      <td>arastallro@toplist.cz</td>\n",
       "      <td>Female</td>\n",
       "      <td>188.219.12.109</td>\n",
       "      <td>NaN</td>\n",
       "      <td>$4.59</td>\n",
       "      <td>20.0</td>\n",
       "      <td>0</td>\n",
       "    </tr>\n",
       "    <tr>\n",
       "      <th>997</th>\n",
       "      <td>998</td>\n",
       "      <td>03/13/2021</td>\n",
       "      <td>Betty</td>\n",
       "      <td>Stickels</td>\n",
       "      <td>bstickelsrp@cloudflare.com</td>\n",
       "      <td>Male</td>\n",
       "      <td>199.80.60.87</td>\n",
       "      <td>United States</td>\n",
       "      <td>$7.54</td>\n",
       "      <td>20.0</td>\n",
       "      <td>0</td>\n",
       "    </tr>\n",
       "    <tr>\n",
       "      <th>998</th>\n",
       "      <td>999</td>\n",
       "      <td>03/17/2021</td>\n",
       "      <td>Paquito</td>\n",
       "      <td>Tesoe</td>\n",
       "      <td>ptesoerq@rakuten.co.jp</td>\n",
       "      <td>Male</td>\n",
       "      <td>0.183.63.11</td>\n",
       "      <td>United States</td>\n",
       "      <td>$5.81</td>\n",
       "      <td>NaN</td>\n",
       "      <td>0</td>\n",
       "    </tr>\n",
       "    <tr>\n",
       "      <th>999</th>\n",
       "      <td>1000</td>\n",
       "      <td>03/23/2021</td>\n",
       "      <td>Rochelle</td>\n",
       "      <td>Pringuer</td>\n",
       "      <td>rpringuerrr@house.gov</td>\n",
       "      <td>NaN</td>\n",
       "      <td>170.193.249.83</td>\n",
       "      <td>Canada</td>\n",
       "      <td>$8.01</td>\n",
       "      <td>20.0</td>\n",
       "      <td>0</td>\n",
       "    </tr>\n",
       "  </tbody>\n",
       "</table>\n",
       "<p>1000 rows × 11 columns</p>\n",
       "</div>"
      ],
      "text/plain": [
       "       id        date first_name   last_name                       email  \\\n",
       "0       1  03/28/2021    Marylin      Alders        malders0@shop-pro.jp   \n",
       "1       2  03/19/2021      Hinda    Harridge          hharridge1@gnu.org   \n",
       "2       3  03/17/2021        Erl  Kilminster       ekilminster2@etsy.com   \n",
       "3       4  03/19/2021      Grata      Brantl            gbrantl3@umn.edu   \n",
       "4       5  03/24/2021      Kanya     Beasant         kbeasant4@jigsy.com   \n",
       "..    ...         ...        ...         ...                         ...   \n",
       "995   996  03/24/2021       Duff      Errigo        derrigorn@elpais.com   \n",
       "996   997  03/17/2021        Ame     Rastall       arastallro@toplist.cz   \n",
       "997   998  03/13/2021      Betty    Stickels  bstickelsrp@cloudflare.com   \n",
       "998   999  03/17/2021    Paquito       Tesoe      ptesoerq@rakuten.co.jp   \n",
       "999  1000  03/23/2021   Rochelle    Pringuer       rpringuerrr@house.gov   \n",
       "\n",
       "     gender       ip_address        country price_paid   tax  malha  \n",
       "0      Male    160.119.8.119         Canada      $5.36   NaN      0  \n",
       "1    Female   210.51.172.132         Canada      $8.32   NaN      0  \n",
       "2      Male    213.8.101.145  United States      $3.73  20.0      0  \n",
       "3    Female    5.140.237.101  United States      $3.70  20.0      0  \n",
       "4      Male  106.252.162.233        Morocco      $9.24  20.0      0  \n",
       "..      ...              ...            ...        ...   ...    ...  \n",
       "995  Female   193.84.247.144         France      $3.63   NaN      0  \n",
       "996  Female   188.219.12.109            NaN      $4.59  20.0      0  \n",
       "997    Male     199.80.60.87  United States      $7.54  20.0      0  \n",
       "998    Male      0.183.63.11  United States      $5.81   NaN      0  \n",
       "999     NaN   170.193.249.83         Canada      $8.01  20.0      0  \n",
       "\n",
       "[1000 rows x 11 columns]"
      ]
     },
     "execution_count": 8,
     "metadata": {},
     "output_type": "execute_result"
    }
   ],
   "source": [
    "df"
   ]
  },
  {
   "cell_type": "code",
   "execution_count": 11,
   "id": "910779ca-37aa-4f54-90f3-a2b45d40871e",
   "metadata": {},
   "outputs": [],
   "source": [
    "del df[\"malha\"]"
   ]
  },
  {
   "cell_type": "code",
   "execution_count": 12,
   "id": "953e81d4-0184-4382-be42-c2a1da57aafd",
   "metadata": {},
   "outputs": [
    {
     "data": {
      "text/html": [
       "<div>\n",
       "<style scoped>\n",
       "    .dataframe tbody tr th:only-of-type {\n",
       "        vertical-align: middle;\n",
       "    }\n",
       "\n",
       "    .dataframe tbody tr th {\n",
       "        vertical-align: top;\n",
       "    }\n",
       "\n",
       "    .dataframe thead th {\n",
       "        text-align: right;\n",
       "    }\n",
       "</style>\n",
       "<table border=\"1\" class=\"dataframe\">\n",
       "  <thead>\n",
       "    <tr style=\"text-align: right;\">\n",
       "      <th></th>\n",
       "      <th>id</th>\n",
       "      <th>date</th>\n",
       "      <th>first_name</th>\n",
       "      <th>last_name</th>\n",
       "      <th>email</th>\n",
       "      <th>gender</th>\n",
       "      <th>ip_address</th>\n",
       "      <th>country</th>\n",
       "      <th>price_paid</th>\n",
       "      <th>tax</th>\n",
       "    </tr>\n",
       "  </thead>\n",
       "  <tbody>\n",
       "    <tr>\n",
       "      <th>0</th>\n",
       "      <td>1</td>\n",
       "      <td>03/28/2021</td>\n",
       "      <td>Marylin</td>\n",
       "      <td>Alders</td>\n",
       "      <td>malders0@shop-pro.jp</td>\n",
       "      <td>Male</td>\n",
       "      <td>160.119.8.119</td>\n",
       "      <td>Canada</td>\n",
       "      <td>$5.36</td>\n",
       "      <td>NaN</td>\n",
       "    </tr>\n",
       "    <tr>\n",
       "      <th>1</th>\n",
       "      <td>2</td>\n",
       "      <td>03/19/2021</td>\n",
       "      <td>Hinda</td>\n",
       "      <td>Harridge</td>\n",
       "      <td>hharridge1@gnu.org</td>\n",
       "      <td>Female</td>\n",
       "      <td>210.51.172.132</td>\n",
       "      <td>Canada</td>\n",
       "      <td>$8.32</td>\n",
       "      <td>NaN</td>\n",
       "    </tr>\n",
       "    <tr>\n",
       "      <th>2</th>\n",
       "      <td>3</td>\n",
       "      <td>03/17/2021</td>\n",
       "      <td>Erl</td>\n",
       "      <td>Kilminster</td>\n",
       "      <td>ekilminster2@etsy.com</td>\n",
       "      <td>Male</td>\n",
       "      <td>213.8.101.145</td>\n",
       "      <td>United States</td>\n",
       "      <td>$3.73</td>\n",
       "      <td>20.0</td>\n",
       "    </tr>\n",
       "    <tr>\n",
       "      <th>3</th>\n",
       "      <td>4</td>\n",
       "      <td>03/19/2021</td>\n",
       "      <td>Grata</td>\n",
       "      <td>Brantl</td>\n",
       "      <td>gbrantl3@umn.edu</td>\n",
       "      <td>Female</td>\n",
       "      <td>5.140.237.101</td>\n",
       "      <td>United States</td>\n",
       "      <td>$3.70</td>\n",
       "      <td>20.0</td>\n",
       "    </tr>\n",
       "    <tr>\n",
       "      <th>4</th>\n",
       "      <td>5</td>\n",
       "      <td>03/24/2021</td>\n",
       "      <td>Kanya</td>\n",
       "      <td>Beasant</td>\n",
       "      <td>kbeasant4@jigsy.com</td>\n",
       "      <td>Male</td>\n",
       "      <td>106.252.162.233</td>\n",
       "      <td>Morocco</td>\n",
       "      <td>$9.24</td>\n",
       "      <td>20.0</td>\n",
       "    </tr>\n",
       "    <tr>\n",
       "      <th>...</th>\n",
       "      <td>...</td>\n",
       "      <td>...</td>\n",
       "      <td>...</td>\n",
       "      <td>...</td>\n",
       "      <td>...</td>\n",
       "      <td>...</td>\n",
       "      <td>...</td>\n",
       "      <td>...</td>\n",
       "      <td>...</td>\n",
       "      <td>...</td>\n",
       "    </tr>\n",
       "    <tr>\n",
       "      <th>995</th>\n",
       "      <td>996</td>\n",
       "      <td>03/24/2021</td>\n",
       "      <td>Duff</td>\n",
       "      <td>Errigo</td>\n",
       "      <td>derrigorn@elpais.com</td>\n",
       "      <td>Female</td>\n",
       "      <td>193.84.247.144</td>\n",
       "      <td>France</td>\n",
       "      <td>$3.63</td>\n",
       "      <td>NaN</td>\n",
       "    </tr>\n",
       "    <tr>\n",
       "      <th>996</th>\n",
       "      <td>997</td>\n",
       "      <td>03/17/2021</td>\n",
       "      <td>Ame</td>\n",
       "      <td>Rastall</td>\n",
       "      <td>arastallro@toplist.cz</td>\n",
       "      <td>Female</td>\n",
       "      <td>188.219.12.109</td>\n",
       "      <td>NaN</td>\n",
       "      <td>$4.59</td>\n",
       "      <td>20.0</td>\n",
       "    </tr>\n",
       "    <tr>\n",
       "      <th>997</th>\n",
       "      <td>998</td>\n",
       "      <td>03/13/2021</td>\n",
       "      <td>Betty</td>\n",
       "      <td>Stickels</td>\n",
       "      <td>bstickelsrp@cloudflare.com</td>\n",
       "      <td>Male</td>\n",
       "      <td>199.80.60.87</td>\n",
       "      <td>United States</td>\n",
       "      <td>$7.54</td>\n",
       "      <td>20.0</td>\n",
       "    </tr>\n",
       "    <tr>\n",
       "      <th>998</th>\n",
       "      <td>999</td>\n",
       "      <td>03/17/2021</td>\n",
       "      <td>Paquito</td>\n",
       "      <td>Tesoe</td>\n",
       "      <td>ptesoerq@rakuten.co.jp</td>\n",
       "      <td>Male</td>\n",
       "      <td>0.183.63.11</td>\n",
       "      <td>United States</td>\n",
       "      <td>$5.81</td>\n",
       "      <td>NaN</td>\n",
       "    </tr>\n",
       "    <tr>\n",
       "      <th>999</th>\n",
       "      <td>1000</td>\n",
       "      <td>03/23/2021</td>\n",
       "      <td>Rochelle</td>\n",
       "      <td>Pringuer</td>\n",
       "      <td>rpringuerrr@house.gov</td>\n",
       "      <td>NaN</td>\n",
       "      <td>170.193.249.83</td>\n",
       "      <td>Canada</td>\n",
       "      <td>$8.01</td>\n",
       "      <td>20.0</td>\n",
       "    </tr>\n",
       "  </tbody>\n",
       "</table>\n",
       "<p>1000 rows × 10 columns</p>\n",
       "</div>"
      ],
      "text/plain": [
       "       id        date first_name   last_name                       email  \\\n",
       "0       1  03/28/2021    Marylin      Alders        malders0@shop-pro.jp   \n",
       "1       2  03/19/2021      Hinda    Harridge          hharridge1@gnu.org   \n",
       "2       3  03/17/2021        Erl  Kilminster       ekilminster2@etsy.com   \n",
       "3       4  03/19/2021      Grata      Brantl            gbrantl3@umn.edu   \n",
       "4       5  03/24/2021      Kanya     Beasant         kbeasant4@jigsy.com   \n",
       "..    ...         ...        ...         ...                         ...   \n",
       "995   996  03/24/2021       Duff      Errigo        derrigorn@elpais.com   \n",
       "996   997  03/17/2021        Ame     Rastall       arastallro@toplist.cz   \n",
       "997   998  03/13/2021      Betty    Stickels  bstickelsrp@cloudflare.com   \n",
       "998   999  03/17/2021    Paquito       Tesoe      ptesoerq@rakuten.co.jp   \n",
       "999  1000  03/23/2021   Rochelle    Pringuer       rpringuerrr@house.gov   \n",
       "\n",
       "     gender       ip_address        country price_paid   tax  \n",
       "0      Male    160.119.8.119         Canada      $5.36   NaN  \n",
       "1    Female   210.51.172.132         Canada      $8.32   NaN  \n",
       "2      Male    213.8.101.145  United States      $3.73  20.0  \n",
       "3    Female    5.140.237.101  United States      $3.70  20.0  \n",
       "4      Male  106.252.162.233        Morocco      $9.24  20.0  \n",
       "..      ...              ...            ...        ...   ...  \n",
       "995  Female   193.84.247.144         France      $3.63   NaN  \n",
       "996  Female   188.219.12.109            NaN      $4.59  20.0  \n",
       "997    Male     199.80.60.87  United States      $7.54  20.0  \n",
       "998    Male      0.183.63.11  United States      $5.81   NaN  \n",
       "999     NaN   170.193.249.83         Canada      $8.01  20.0  \n",
       "\n",
       "[1000 rows x 10 columns]"
      ]
     },
     "execution_count": 12,
     "metadata": {},
     "output_type": "execute_result"
    }
   ],
   "source": [
    "df"
   ]
  },
  {
   "cell_type": "code",
   "execution_count": 18,
   "id": "b3cecd44-1300-4217-82f4-a2bb48490632",
   "metadata": {},
   "outputs": [
    {
     "data": {
      "text/html": [
       "<div>\n",
       "<style scoped>\n",
       "    .dataframe tbody tr th:only-of-type {\n",
       "        vertical-align: middle;\n",
       "    }\n",
       "\n",
       "    .dataframe tbody tr th {\n",
       "        vertical-align: top;\n",
       "    }\n",
       "\n",
       "    .dataframe thead th {\n",
       "        text-align: right;\n",
       "    }\n",
       "</style>\n",
       "<table border=\"1\" class=\"dataframe\">\n",
       "  <thead>\n",
       "    <tr style=\"text-align: right;\">\n",
       "      <th></th>\n",
       "      <th></th>\n",
       "      <th>id</th>\n",
       "      <th>date</th>\n",
       "      <th>first_name</th>\n",
       "      <th>last_name</th>\n",
       "      <th>email</th>\n",
       "      <th>ip_address</th>\n",
       "      <th>price_paid</th>\n",
       "      <th>tax</th>\n",
       "    </tr>\n",
       "    <tr>\n",
       "      <th>gender</th>\n",
       "      <th>country</th>\n",
       "      <th></th>\n",
       "      <th></th>\n",
       "      <th></th>\n",
       "      <th></th>\n",
       "      <th></th>\n",
       "      <th></th>\n",
       "      <th></th>\n",
       "      <th></th>\n",
       "    </tr>\n",
       "  </thead>\n",
       "  <tbody>\n",
       "    <tr>\n",
       "      <th rowspan=\"4\" valign=\"top\">Female</th>\n",
       "      <th>Canada</th>\n",
       "      <td>34149</td>\n",
       "      <td>03/19/202103/14/202103/05/202103/22/202103/14/...</td>\n",
       "      <td>HindaAvaJaniceMatthusMurdockMarcusKelbeeLeonor...</td>\n",
       "      <td>HarridgeKencottMorillasSaketSpeaksHelstromCarr...</td>\n",
       "      <td>hharridge1@gnu.orgakencott6@phoca.czjmorillasc...</td>\n",
       "      <td>210.51.172.132118.251.45.4324.25.198.252248.13...</td>\n",
       "      <td>$8.32$6.29$5.30$4.54$4.04$4.23$4.69$7.56$8.43$...</td>\n",
       "      <td>1000.0</td>\n",
       "    </tr>\n",
       "    <tr>\n",
       "      <th>France</th>\n",
       "      <td>102017</td>\n",
       "      <td>03/16/202103/12/202103/10/202103/02/202103/23/...</td>\n",
       "      <td>JudyeJeffreyJilleneTreschaFilberteKeeneBoyBarr...</td>\n",
       "      <td>BehanStanmanBaudiMcCuddenO'HickeyBewsyTilzeySi...</td>\n",
       "      <td>jbehani@google.esjstanmank@latimes.comjbaudiv@...</td>\n",
       "      <td>27.196.2.183.110.64.192184.161.57.67195.84.81....</td>\n",
       "      <td>$4.90$5.55$6.02$4.67$4.96$4.21$6.94$9.13$3.04$...</td>\n",
       "      <td>2400.0</td>\n",
       "    </tr>\n",
       "    <tr>\n",
       "      <th>Morocco</th>\n",
       "      <td>12958</td>\n",
       "      <td>03/28/202103/21/202103/07/202103/01/202103/22/...</td>\n",
       "      <td>TommiRandyEthelinWillisFredericaKendalOllieDun...</td>\n",
       "      <td>DitchburnTiebeGorsSandercroftStuchburieHuleatt...</td>\n",
       "      <td>tditchburnu@bbc.co.ukrtiebe2g@livejournal.come...</td>\n",
       "      <td>8.92.173.3898.223.40.349.70.235.12163.189.92.2...</td>\n",
       "      <td>$7.81$4.95$7.98$10.00$9.51$5.82$9.98$5.83$7.93...</td>\n",
       "      <td>460.0</td>\n",
       "    </tr>\n",
       "    <tr>\n",
       "      <th>United States</th>\n",
       "      <td>82838</td>\n",
       "      <td>03/19/202103/25/202103/21/202103/24/202103/27/...</td>\n",
       "      <td>GrataTitosOralieJulinaEveNobeCamGeorgySylasHal...</td>\n",
       "      <td>BrantlBraybrookeMaryonFaintAllawayStobbartFran...</td>\n",
       "      <td>gbrantl3@umn.edutbraybrooke5@umn.eduomaryone@v...</td>\n",
       "      <td>5.140.237.101173.100.21.179215.248.16.19896.19...</td>\n",
       "      <td>$3.70$5.82$4.53$4.10$6.44$9.90$5.34$9.81$9.70$...</td>\n",
       "      <td>2300.0</td>\n",
       "    </tr>\n",
       "    <tr>\n",
       "      <th rowspan=\"4\" valign=\"top\">Male</th>\n",
       "      <th>Canada</th>\n",
       "      <td>30450</td>\n",
       "      <td>03/28/202103/09/202103/11/202103/01/202103/05/...</td>\n",
       "      <td>MarylinWaylonLiefSibealMendieMurielErmannoTodI...</td>\n",
       "      <td>AldersHeersemaWoodcraftMounchAyerPextonGhostWi...</td>\n",
       "      <td>malders0@shop-pro.jpwheersema8@tumblr.comlwood...</td>\n",
       "      <td>160.119.8.11963.242.174.112201.76.240.51218.17...</td>\n",
       "      <td>$5.36$3.70$5.71$5.82$4.86$6.72$9.79$8.23$9.23$...</td>\n",
       "      <td>1020.0</td>\n",
       "    </tr>\n",
       "    <tr>\n",
       "      <th>France</th>\n",
       "      <td>96822</td>\n",
       "      <td>03/08/202103/23/202103/11/202103/08/202103/26/...</td>\n",
       "      <td>CodiGuglielmaCharmianDaisyMaybelleShaniOdellCa...</td>\n",
       "      <td>FeasleyGookesGreenleafJobeyLileDumbartonRicart...</td>\n",
       "      <td>cfeasley7@ed.govggookes9@amazon.co.ukcgreenlea...</td>\n",
       "      <td>26.190.191.249169.100.6.046.184.249.15637.228....</td>\n",
       "      <td>$3.01$9.05$6.22$3.37$3.88$3.40$9.99$9.68$9.60$...</td>\n",
       "      <td>2360.0</td>\n",
       "    </tr>\n",
       "    <tr>\n",
       "      <th>Morocco</th>\n",
       "      <td>11124</td>\n",
       "      <td>03/24/202103/22/202103/28/202103/07/202103/24/...</td>\n",
       "      <td>KanyaToniaPenelopeLayNinnetteWandisRodrickCaro...</td>\n",
       "      <td>BeasantJacquemeBroodBouchierMcGruarMacCoughenG...</td>\n",
       "      <td>kbeasant4@jigsy.comtjacqueme16@hugedomains.com...</td>\n",
       "      <td>106.252.162.23365.151.183.165223.231.69.66219....</td>\n",
       "      <td>$9.24$5.29$6.39$4.32$9.60$9.13$8.27$9.04$4.23$...</td>\n",
       "      <td>280.0</td>\n",
       "    </tr>\n",
       "    <tr>\n",
       "      <th>United States</th>\n",
       "      <td>75641</td>\n",
       "      <td>03/17/202103/16/202103/25/202103/02/202103/29/...</td>\n",
       "      <td>ErlBailieStafordEdiEadmundByramEmKarenaMaribel...</td>\n",
       "      <td>KilminsterWymanLondonPetruLaurentDudmanDupoySt...</td>\n",
       "      <td>ekilminster2@etsy.combwymanb@lulu.comslondonr@...</td>\n",
       "      <td>213.8.101.145222.60.138.222247.235.26.222117.4...</td>\n",
       "      <td>$3.73$3.15$3.06$6.76$5.00$9.50$3.45$8.11$3.37$...</td>\n",
       "      <td>1940.0</td>\n",
       "    </tr>\n",
       "  </tbody>\n",
       "</table>\n",
       "</div>"
      ],
      "text/plain": [
       "                          id  \\\n",
       "gender country                 \n",
       "Female Canada          34149   \n",
       "       France         102017   \n",
       "       Morocco         12958   \n",
       "       United States   82838   \n",
       "Male   Canada          30450   \n",
       "       France          96822   \n",
       "       Morocco         11124   \n",
       "       United States   75641   \n",
       "\n",
       "                                                                   date  \\\n",
       "gender country                                                            \n",
       "Female Canada         03/19/202103/14/202103/05/202103/22/202103/14/...   \n",
       "       France         03/16/202103/12/202103/10/202103/02/202103/23/...   \n",
       "       Morocco        03/28/202103/21/202103/07/202103/01/202103/22/...   \n",
       "       United States  03/19/202103/25/202103/21/202103/24/202103/27/...   \n",
       "Male   Canada         03/28/202103/09/202103/11/202103/01/202103/05/...   \n",
       "       France         03/08/202103/23/202103/11/202103/08/202103/26/...   \n",
       "       Morocco        03/24/202103/22/202103/28/202103/07/202103/24/...   \n",
       "       United States  03/17/202103/16/202103/25/202103/02/202103/29/...   \n",
       "\n",
       "                                                             first_name  \\\n",
       "gender country                                                            \n",
       "Female Canada         HindaAvaJaniceMatthusMurdockMarcusKelbeeLeonor...   \n",
       "       France         JudyeJeffreyJilleneTreschaFilberteKeeneBoyBarr...   \n",
       "       Morocco        TommiRandyEthelinWillisFredericaKendalOllieDun...   \n",
       "       United States  GrataTitosOralieJulinaEveNobeCamGeorgySylasHal...   \n",
       "Male   Canada         MarylinWaylonLiefSibealMendieMurielErmannoTodI...   \n",
       "       France         CodiGuglielmaCharmianDaisyMaybelleShaniOdellCa...   \n",
       "       Morocco        KanyaToniaPenelopeLayNinnetteWandisRodrickCaro...   \n",
       "       United States  ErlBailieStafordEdiEadmundByramEmKarenaMaribel...   \n",
       "\n",
       "                                                              last_name  \\\n",
       "gender country                                                            \n",
       "Female Canada         HarridgeKencottMorillasSaketSpeaksHelstromCarr...   \n",
       "       France         BehanStanmanBaudiMcCuddenO'HickeyBewsyTilzeySi...   \n",
       "       Morocco        DitchburnTiebeGorsSandercroftStuchburieHuleatt...   \n",
       "       United States  BrantlBraybrookeMaryonFaintAllawayStobbartFran...   \n",
       "Male   Canada         AldersHeersemaWoodcraftMounchAyerPextonGhostWi...   \n",
       "       France         FeasleyGookesGreenleafJobeyLileDumbartonRicart...   \n",
       "       Morocco        BeasantJacquemeBroodBouchierMcGruarMacCoughenG...   \n",
       "       United States  KilminsterWymanLondonPetruLaurentDudmanDupoySt...   \n",
       "\n",
       "                                                                  email  \\\n",
       "gender country                                                            \n",
       "Female Canada         hharridge1@gnu.orgakencott6@phoca.czjmorillasc...   \n",
       "       France         jbehani@google.esjstanmank@latimes.comjbaudiv@...   \n",
       "       Morocco        tditchburnu@bbc.co.ukrtiebe2g@livejournal.come...   \n",
       "       United States  gbrantl3@umn.edutbraybrooke5@umn.eduomaryone@v...   \n",
       "Male   Canada         malders0@shop-pro.jpwheersema8@tumblr.comlwood...   \n",
       "       France         cfeasley7@ed.govggookes9@amazon.co.ukcgreenlea...   \n",
       "       Morocco        kbeasant4@jigsy.comtjacqueme16@hugedomains.com...   \n",
       "       United States  ekilminster2@etsy.combwymanb@lulu.comslondonr@...   \n",
       "\n",
       "                                                             ip_address  \\\n",
       "gender country                                                            \n",
       "Female Canada         210.51.172.132118.251.45.4324.25.198.252248.13...   \n",
       "       France         27.196.2.183.110.64.192184.161.57.67195.84.81....   \n",
       "       Morocco        8.92.173.3898.223.40.349.70.235.12163.189.92.2...   \n",
       "       United States  5.140.237.101173.100.21.179215.248.16.19896.19...   \n",
       "Male   Canada         160.119.8.11963.242.174.112201.76.240.51218.17...   \n",
       "       France         26.190.191.249169.100.6.046.184.249.15637.228....   \n",
       "       Morocco        106.252.162.23365.151.183.165223.231.69.66219....   \n",
       "       United States  213.8.101.145222.60.138.222247.235.26.222117.4...   \n",
       "\n",
       "                                                             price_paid  \\\n",
       "gender country                                                            \n",
       "Female Canada         $8.32$6.29$5.30$4.54$4.04$4.23$4.69$7.56$8.43$...   \n",
       "       France         $4.90$5.55$6.02$4.67$4.96$4.21$6.94$9.13$3.04$...   \n",
       "       Morocco        $7.81$4.95$7.98$10.00$9.51$5.82$9.98$5.83$7.93...   \n",
       "       United States  $3.70$5.82$4.53$4.10$6.44$9.90$5.34$9.81$9.70$...   \n",
       "Male   Canada         $5.36$3.70$5.71$5.82$4.86$6.72$9.79$8.23$9.23$...   \n",
       "       France         $3.01$9.05$6.22$3.37$3.88$3.40$9.99$9.68$9.60$...   \n",
       "       Morocco        $9.24$5.29$6.39$4.32$9.60$9.13$8.27$9.04$4.23$...   \n",
       "       United States  $3.73$3.15$3.06$6.76$5.00$9.50$3.45$8.11$3.37$...   \n",
       "\n",
       "                         tax  \n",
       "gender country                \n",
       "Female Canada         1000.0  \n",
       "       France         2400.0  \n",
       "       Morocco         460.0  \n",
       "       United States  2300.0  \n",
       "Male   Canada         1020.0  \n",
       "       France         2360.0  \n",
       "       Morocco         280.0  \n",
       "       United States  1940.0  "
      ]
     },
     "execution_count": 18,
     "metadata": {},
     "output_type": "execute_result"
    }
   ],
   "source": [
    "df.groupby([\"gender\",\"country\"]).sum()"
   ]
  },
  {
   "cell_type": "code",
   "execution_count": 19,
   "id": "721a1e52-7056-4ed3-8cab-b618f9e1ca49",
   "metadata": {},
   "outputs": [
    {
     "data": {
      "text/plain": [
       "gender\n",
       "Female    $8.32$3.70$5.82$6.29$5.30$4.53$4.10$6.44$4.90$...\n",
       "Male      $5.36$3.73$9.24$3.01$3.70$9.05$5.71$3.15$5.82$...\n",
       "Name: price_paid, dtype: object"
      ]
     },
     "execution_count": 19,
     "metadata": {},
     "output_type": "execute_result"
    }
   ],
   "source": [
    "df.groupby(\"gender\")[\"price_paid\"].sum()"
   ]
  },
  {
   "cell_type": "code",
   "execution_count": 22,
   "id": "7467dad1-0263-4c9a-8128-bf3c29afecc2",
   "metadata": {},
   "outputs": [],
   "source": [
    "df.price_paid=df.price_paid.apply(lambda x :x.replace(\"$\",\"\"))\n",
    "df.price_paid=df.price_paid.astype(float)"
   ]
  },
  {
   "cell_type": "code",
   "execution_count": 23,
   "id": "5c7af750-cce2-4f65-aced-8a787a28a309",
   "metadata": {},
   "outputs": [
    {
     "data": {
      "text/plain": [
       "gender\n",
       "Female    3165.26\n",
       "Male      2833.61\n",
       "Name: price_paid, dtype: float64"
      ]
     },
     "execution_count": 23,
     "metadata": {},
     "output_type": "execute_result"
    }
   ],
   "source": [
    "df.groupby(\"gender\")[\"price_paid\"].sum()"
   ]
  },
  {
   "cell_type": "code",
   "execution_count": 26,
   "id": "a1e968db-145e-402b-9d9a-2c2428cc25a6",
   "metadata": {},
   "outputs": [
    {
     "data": {
      "text/html": [
       "<div>\n",
       "<style scoped>\n",
       "    .dataframe tbody tr th:only-of-type {\n",
       "        vertical-align: middle;\n",
       "    }\n",
       "\n",
       "    .dataframe tbody tr th {\n",
       "        vertical-align: top;\n",
       "    }\n",
       "\n",
       "    .dataframe thead th {\n",
       "        text-align: right;\n",
       "    }\n",
       "</style>\n",
       "<table border=\"1\" class=\"dataframe\">\n",
       "  <thead>\n",
       "    <tr style=\"text-align: right;\">\n",
       "      <th></th>\n",
       "      <th></th>\n",
       "      <th>id</th>\n",
       "      <th>date</th>\n",
       "      <th>first_name</th>\n",
       "      <th>last_name</th>\n",
       "      <th>email</th>\n",
       "      <th>ip_address</th>\n",
       "      <th>price_paid</th>\n",
       "      <th>tax</th>\n",
       "    </tr>\n",
       "    <tr>\n",
       "      <th>gender</th>\n",
       "      <th>country</th>\n",
       "      <th></th>\n",
       "      <th></th>\n",
       "      <th></th>\n",
       "      <th></th>\n",
       "      <th></th>\n",
       "      <th></th>\n",
       "      <th></th>\n",
       "      <th></th>\n",
       "    </tr>\n",
       "  </thead>\n",
       "  <tbody>\n",
       "    <tr>\n",
       "      <th rowspan=\"4\" valign=\"top\">Female</th>\n",
       "      <th>Canada</th>\n",
       "      <td>34149</td>\n",
       "      <td>03/19/202103/14/202103/05/202103/22/202103/14/...</td>\n",
       "      <td>HindaAvaJaniceMatthusMurdockMarcusKelbeeLeonor...</td>\n",
       "      <td>HarridgeKencottMorillasSaketSpeaksHelstromCarr...</td>\n",
       "      <td>hharridge1@gnu.orgakencott6@phoca.czjmorillasc...</td>\n",
       "      <td>210.51.172.132118.251.45.4324.25.198.252248.13...</td>\n",
       "      <td>475.03</td>\n",
       "      <td>1000.0</td>\n",
       "    </tr>\n",
       "    <tr>\n",
       "      <th>France</th>\n",
       "      <td>102017</td>\n",
       "      <td>03/16/202103/12/202103/10/202103/02/202103/23/...</td>\n",
       "      <td>JudyeJeffreyJilleneTreschaFilberteKeeneBoyBarr...</td>\n",
       "      <td>BehanStanmanBaudiMcCuddenO'HickeyBewsyTilzeySi...</td>\n",
       "      <td>jbehani@google.esjstanmank@latimes.comjbaudiv@...</td>\n",
       "      <td>27.196.2.183.110.64.192184.161.57.67195.84.81....</td>\n",
       "      <td>1263.72</td>\n",
       "      <td>2400.0</td>\n",
       "    </tr>\n",
       "    <tr>\n",
       "      <th>Morocco</th>\n",
       "      <td>12958</td>\n",
       "      <td>03/28/202103/21/202103/07/202103/01/202103/22/...</td>\n",
       "      <td>TommiRandyEthelinWillisFredericaKendalOllieDun...</td>\n",
       "      <td>DitchburnTiebeGorsSandercroftStuchburieHuleatt...</td>\n",
       "      <td>tditchburnu@bbc.co.ukrtiebe2g@livejournal.come...</td>\n",
       "      <td>8.92.173.3898.223.40.349.70.235.12163.189.92.2...</td>\n",
       "      <td>189.67</td>\n",
       "      <td>460.0</td>\n",
       "    </tr>\n",
       "    <tr>\n",
       "      <th>United States</th>\n",
       "      <td>82838</td>\n",
       "      <td>03/19/202103/25/202103/21/202103/24/202103/27/...</td>\n",
       "      <td>GrataTitosOralieJulinaEveNobeCamGeorgySylasHal...</td>\n",
       "      <td>BrantlBraybrookeMaryonFaintAllawayStobbartFran...</td>\n",
       "      <td>gbrantl3@umn.edutbraybrooke5@umn.eduomaryone@v...</td>\n",
       "      <td>5.140.237.101173.100.21.179215.248.16.19896.19...</td>\n",
       "      <td>1094.31</td>\n",
       "      <td>2300.0</td>\n",
       "    </tr>\n",
       "    <tr>\n",
       "      <th rowspan=\"4\" valign=\"top\">Male</th>\n",
       "      <th>Canada</th>\n",
       "      <td>30450</td>\n",
       "      <td>03/28/202103/09/202103/11/202103/01/202103/05/...</td>\n",
       "      <td>MarylinWaylonLiefSibealMendieMurielErmannoTodI...</td>\n",
       "      <td>AldersHeersemaWoodcraftMounchAyerPextonGhostWi...</td>\n",
       "      <td>malders0@shop-pro.jpwheersema8@tumblr.comlwood...</td>\n",
       "      <td>160.119.8.11963.242.174.112201.76.240.51218.17...</td>\n",
       "      <td>458.81</td>\n",
       "      <td>1020.0</td>\n",
       "    </tr>\n",
       "    <tr>\n",
       "      <th>France</th>\n",
       "      <td>96822</td>\n",
       "      <td>03/08/202103/23/202103/11/202103/08/202103/26/...</td>\n",
       "      <td>CodiGuglielmaCharmianDaisyMaybelleShaniOdellCa...</td>\n",
       "      <td>FeasleyGookesGreenleafJobeyLileDumbartonRicart...</td>\n",
       "      <td>cfeasley7@ed.govggookes9@amazon.co.ukcgreenlea...</td>\n",
       "      <td>26.190.191.249169.100.6.046.184.249.15637.228....</td>\n",
       "      <td>1176.31</td>\n",
       "      <td>2360.0</td>\n",
       "    </tr>\n",
       "    <tr>\n",
       "      <th>Morocco</th>\n",
       "      <td>11124</td>\n",
       "      <td>03/24/202103/22/202103/28/202103/07/202103/24/...</td>\n",
       "      <td>KanyaToniaPenelopeLayNinnetteWandisRodrickCaro...</td>\n",
       "      <td>BeasantJacquemeBroodBouchierMcGruarMacCoughenG...</td>\n",
       "      <td>kbeasant4@jigsy.comtjacqueme16@hugedomains.com...</td>\n",
       "      <td>106.252.162.23365.151.183.165223.231.69.66219....</td>\n",
       "      <td>141.38</td>\n",
       "      <td>280.0</td>\n",
       "    </tr>\n",
       "    <tr>\n",
       "      <th>United States</th>\n",
       "      <td>75641</td>\n",
       "      <td>03/17/202103/16/202103/25/202103/02/202103/29/...</td>\n",
       "      <td>ErlBailieStafordEdiEadmundByramEmKarenaMaribel...</td>\n",
       "      <td>KilminsterWymanLondonPetruLaurentDudmanDupoySt...</td>\n",
       "      <td>ekilminster2@etsy.combwymanb@lulu.comslondonr@...</td>\n",
       "      <td>213.8.101.145222.60.138.222247.235.26.222117.4...</td>\n",
       "      <td>960.84</td>\n",
       "      <td>1940.0</td>\n",
       "    </tr>\n",
       "  </tbody>\n",
       "</table>\n",
       "</div>"
      ],
      "text/plain": [
       "                          id  \\\n",
       "gender country                 \n",
       "Female Canada          34149   \n",
       "       France         102017   \n",
       "       Morocco         12958   \n",
       "       United States   82838   \n",
       "Male   Canada          30450   \n",
       "       France          96822   \n",
       "       Morocco         11124   \n",
       "       United States   75641   \n",
       "\n",
       "                                                                   date  \\\n",
       "gender country                                                            \n",
       "Female Canada         03/19/202103/14/202103/05/202103/22/202103/14/...   \n",
       "       France         03/16/202103/12/202103/10/202103/02/202103/23/...   \n",
       "       Morocco        03/28/202103/21/202103/07/202103/01/202103/22/...   \n",
       "       United States  03/19/202103/25/202103/21/202103/24/202103/27/...   \n",
       "Male   Canada         03/28/202103/09/202103/11/202103/01/202103/05/...   \n",
       "       France         03/08/202103/23/202103/11/202103/08/202103/26/...   \n",
       "       Morocco        03/24/202103/22/202103/28/202103/07/202103/24/...   \n",
       "       United States  03/17/202103/16/202103/25/202103/02/202103/29/...   \n",
       "\n",
       "                                                             first_name  \\\n",
       "gender country                                                            \n",
       "Female Canada         HindaAvaJaniceMatthusMurdockMarcusKelbeeLeonor...   \n",
       "       France         JudyeJeffreyJilleneTreschaFilberteKeeneBoyBarr...   \n",
       "       Morocco        TommiRandyEthelinWillisFredericaKendalOllieDun...   \n",
       "       United States  GrataTitosOralieJulinaEveNobeCamGeorgySylasHal...   \n",
       "Male   Canada         MarylinWaylonLiefSibealMendieMurielErmannoTodI...   \n",
       "       France         CodiGuglielmaCharmianDaisyMaybelleShaniOdellCa...   \n",
       "       Morocco        KanyaToniaPenelopeLayNinnetteWandisRodrickCaro...   \n",
       "       United States  ErlBailieStafordEdiEadmundByramEmKarenaMaribel...   \n",
       "\n",
       "                                                              last_name  \\\n",
       "gender country                                                            \n",
       "Female Canada         HarridgeKencottMorillasSaketSpeaksHelstromCarr...   \n",
       "       France         BehanStanmanBaudiMcCuddenO'HickeyBewsyTilzeySi...   \n",
       "       Morocco        DitchburnTiebeGorsSandercroftStuchburieHuleatt...   \n",
       "       United States  BrantlBraybrookeMaryonFaintAllawayStobbartFran...   \n",
       "Male   Canada         AldersHeersemaWoodcraftMounchAyerPextonGhostWi...   \n",
       "       France         FeasleyGookesGreenleafJobeyLileDumbartonRicart...   \n",
       "       Morocco        BeasantJacquemeBroodBouchierMcGruarMacCoughenG...   \n",
       "       United States  KilminsterWymanLondonPetruLaurentDudmanDupoySt...   \n",
       "\n",
       "                                                                  email  \\\n",
       "gender country                                                            \n",
       "Female Canada         hharridge1@gnu.orgakencott6@phoca.czjmorillasc...   \n",
       "       France         jbehani@google.esjstanmank@latimes.comjbaudiv@...   \n",
       "       Morocco        tditchburnu@bbc.co.ukrtiebe2g@livejournal.come...   \n",
       "       United States  gbrantl3@umn.edutbraybrooke5@umn.eduomaryone@v...   \n",
       "Male   Canada         malders0@shop-pro.jpwheersema8@tumblr.comlwood...   \n",
       "       France         cfeasley7@ed.govggookes9@amazon.co.ukcgreenlea...   \n",
       "       Morocco        kbeasant4@jigsy.comtjacqueme16@hugedomains.com...   \n",
       "       United States  ekilminster2@etsy.combwymanb@lulu.comslondonr@...   \n",
       "\n",
       "                                                             ip_address  \\\n",
       "gender country                                                            \n",
       "Female Canada         210.51.172.132118.251.45.4324.25.198.252248.13...   \n",
       "       France         27.196.2.183.110.64.192184.161.57.67195.84.81....   \n",
       "       Morocco        8.92.173.3898.223.40.349.70.235.12163.189.92.2...   \n",
       "       United States  5.140.237.101173.100.21.179215.248.16.19896.19...   \n",
       "Male   Canada         160.119.8.11963.242.174.112201.76.240.51218.17...   \n",
       "       France         26.190.191.249169.100.6.046.184.249.15637.228....   \n",
       "       Morocco        106.252.162.23365.151.183.165223.231.69.66219....   \n",
       "       United States  213.8.101.145222.60.138.222247.235.26.222117.4...   \n",
       "\n",
       "                      price_paid     tax  \n",
       "gender country                            \n",
       "Female Canada             475.03  1000.0  \n",
       "       France            1263.72  2400.0  \n",
       "       Morocco            189.67   460.0  \n",
       "       United States     1094.31  2300.0  \n",
       "Male   Canada             458.81  1020.0  \n",
       "       France            1176.31  2360.0  \n",
       "       Morocco            141.38   280.0  \n",
       "       United States      960.84  1940.0  "
      ]
     },
     "execution_count": 26,
     "metadata": {},
     "output_type": "execute_result"
    }
   ],
   "source": [
    "df.groupby([\"gender\",\"country\"]).sum()"
   ]
  },
  {
   "cell_type": "code",
   "execution_count": 30,
   "id": "317baa57-7382-4ad0-8d30-c2d2627a925d",
   "metadata": {},
   "outputs": [
    {
     "ename": "AttributeError",
     "evalue": "'float' object has no attribute 'replace'",
     "output_type": "error",
     "traceback": [
      "\u001b[1;31m---------------------------------------------------------------------------\u001b[0m",
      "\u001b[1;31mAttributeError\u001b[0m                            Traceback (most recent call last)",
      "Cell \u001b[1;32mIn[30], line 1\u001b[0m\n\u001b[1;32m----> 1\u001b[0m df\u001b[38;5;241m.\u001b[39mprice_paid\u001b[38;5;241m=\u001b[39m\u001b[43mdf\u001b[49m\u001b[38;5;241;43m.\u001b[39;49m\u001b[43mprice_paid\u001b[49m\u001b[38;5;241;43m.\u001b[39;49m\u001b[43mapply\u001b[49m\u001b[43m(\u001b[49m\u001b[38;5;28;43;01mlambda\u001b[39;49;00m\u001b[43m \u001b[49m\u001b[43mx\u001b[49m\u001b[43m \u001b[49m\u001b[43m:\u001b[49m\u001b[43mx\u001b[49m\u001b[38;5;241;43m.\u001b[39;49m\u001b[43mreplace\u001b[49m\u001b[43m(\u001b[49m\u001b[38;5;124;43m\"\u001b[39;49m\u001b[38;5;124;43m$\u001b[39;49m\u001b[38;5;124;43m\"\u001b[39;49m\u001b[43m,\u001b[49m\u001b[38;5;124;43m\"\u001b[39;49m\u001b[38;5;124;43m\"\u001b[39;49m\u001b[43m)\u001b[49m\u001b[43m)\u001b[49m\n\u001b[0;32m      2\u001b[0m df\u001b[38;5;241m.\u001b[39mprice_paid\u001b[38;5;241m=\u001b[39mdf\u001b[38;5;241m.\u001b[39mprice_paid\u001b[38;5;241m.\u001b[39mastype(\u001b[38;5;28mfloat\u001b[39m)\n",
      "File \u001b[1;32mC:\\Python311\\Lib\\site-packages\\pandas\\core\\series.py:4924\u001b[0m, in \u001b[0;36mSeries.apply\u001b[1;34m(self, func, convert_dtype, args, by_row, **kwargs)\u001b[0m\n\u001b[0;32m   4789\u001b[0m \u001b[38;5;28;01mdef\u001b[39;00m \u001b[38;5;21mapply\u001b[39m(\n\u001b[0;32m   4790\u001b[0m     \u001b[38;5;28mself\u001b[39m,\n\u001b[0;32m   4791\u001b[0m     func: AggFuncType,\n\u001b[1;32m   (...)\u001b[0m\n\u001b[0;32m   4796\u001b[0m     \u001b[38;5;241m*\u001b[39m\u001b[38;5;241m*\u001b[39mkwargs,\n\u001b[0;32m   4797\u001b[0m ) \u001b[38;5;241m-\u001b[39m\u001b[38;5;241m>\u001b[39m DataFrame \u001b[38;5;241m|\u001b[39m Series:\n\u001b[0;32m   4798\u001b[0m \u001b[38;5;250m    \u001b[39m\u001b[38;5;124;03m\"\"\"\u001b[39;00m\n\u001b[0;32m   4799\u001b[0m \u001b[38;5;124;03m    Invoke function on values of Series.\u001b[39;00m\n\u001b[0;32m   4800\u001b[0m \n\u001b[1;32m   (...)\u001b[0m\n\u001b[0;32m   4915\u001b[0m \u001b[38;5;124;03m    dtype: float64\u001b[39;00m\n\u001b[0;32m   4916\u001b[0m \u001b[38;5;124;03m    \"\"\"\u001b[39;00m\n\u001b[0;32m   4917\u001b[0m     \u001b[38;5;28;01mreturn\u001b[39;00m \u001b[43mSeriesApply\u001b[49m\u001b[43m(\u001b[49m\n\u001b[0;32m   4918\u001b[0m \u001b[43m        \u001b[49m\u001b[38;5;28;43mself\u001b[39;49m\u001b[43m,\u001b[49m\n\u001b[0;32m   4919\u001b[0m \u001b[43m        \u001b[49m\u001b[43mfunc\u001b[49m\u001b[43m,\u001b[49m\n\u001b[0;32m   4920\u001b[0m \u001b[43m        \u001b[49m\u001b[43mconvert_dtype\u001b[49m\u001b[38;5;241;43m=\u001b[39;49m\u001b[43mconvert_dtype\u001b[49m\u001b[43m,\u001b[49m\n\u001b[0;32m   4921\u001b[0m \u001b[43m        \u001b[49m\u001b[43mby_row\u001b[49m\u001b[38;5;241;43m=\u001b[39;49m\u001b[43mby_row\u001b[49m\u001b[43m,\u001b[49m\n\u001b[0;32m   4922\u001b[0m \u001b[43m        \u001b[49m\u001b[43margs\u001b[49m\u001b[38;5;241;43m=\u001b[39;49m\u001b[43margs\u001b[49m\u001b[43m,\u001b[49m\n\u001b[0;32m   4923\u001b[0m \u001b[43m        \u001b[49m\u001b[43mkwargs\u001b[49m\u001b[38;5;241;43m=\u001b[39;49m\u001b[43mkwargs\u001b[49m\u001b[43m,\u001b[49m\n\u001b[1;32m-> 4924\u001b[0m \u001b[43m    \u001b[49m\u001b[43m)\u001b[49m\u001b[38;5;241;43m.\u001b[39;49m\u001b[43mapply\u001b[49m\u001b[43m(\u001b[49m\u001b[43m)\u001b[49m\n",
      "File \u001b[1;32mC:\\Python311\\Lib\\site-packages\\pandas\\core\\apply.py:1427\u001b[0m, in \u001b[0;36mSeriesApply.apply\u001b[1;34m(self)\u001b[0m\n\u001b[0;32m   1424\u001b[0m     \u001b[38;5;28;01mreturn\u001b[39;00m \u001b[38;5;28mself\u001b[39m\u001b[38;5;241m.\u001b[39mapply_compat()\n\u001b[0;32m   1426\u001b[0m \u001b[38;5;66;03m# self.func is Callable\u001b[39;00m\n\u001b[1;32m-> 1427\u001b[0m \u001b[38;5;28;01mreturn\u001b[39;00m \u001b[38;5;28;43mself\u001b[39;49m\u001b[38;5;241;43m.\u001b[39;49m\u001b[43mapply_standard\u001b[49m\u001b[43m(\u001b[49m\u001b[43m)\u001b[49m\n",
      "File \u001b[1;32mC:\\Python311\\Lib\\site-packages\\pandas\\core\\apply.py:1507\u001b[0m, in \u001b[0;36mSeriesApply.apply_standard\u001b[1;34m(self)\u001b[0m\n\u001b[0;32m   1501\u001b[0m \u001b[38;5;66;03m# row-wise access\u001b[39;00m\n\u001b[0;32m   1502\u001b[0m \u001b[38;5;66;03m# apply doesn't have a `na_action` keyword and for backward compat reasons\u001b[39;00m\n\u001b[0;32m   1503\u001b[0m \u001b[38;5;66;03m# we need to give `na_action=\"ignore\"` for categorical data.\u001b[39;00m\n\u001b[0;32m   1504\u001b[0m \u001b[38;5;66;03m# TODO: remove the `na_action=\"ignore\"` when that default has been changed in\u001b[39;00m\n\u001b[0;32m   1505\u001b[0m \u001b[38;5;66;03m#  Categorical (GH51645).\u001b[39;00m\n\u001b[0;32m   1506\u001b[0m action \u001b[38;5;241m=\u001b[39m \u001b[38;5;124m\"\u001b[39m\u001b[38;5;124mignore\u001b[39m\u001b[38;5;124m\"\u001b[39m \u001b[38;5;28;01mif\u001b[39;00m \u001b[38;5;28misinstance\u001b[39m(obj\u001b[38;5;241m.\u001b[39mdtype, CategoricalDtype) \u001b[38;5;28;01melse\u001b[39;00m \u001b[38;5;28;01mNone\u001b[39;00m\n\u001b[1;32m-> 1507\u001b[0m mapped \u001b[38;5;241m=\u001b[39m \u001b[43mobj\u001b[49m\u001b[38;5;241;43m.\u001b[39;49m\u001b[43m_map_values\u001b[49m\u001b[43m(\u001b[49m\n\u001b[0;32m   1508\u001b[0m \u001b[43m    \u001b[49m\u001b[43mmapper\u001b[49m\u001b[38;5;241;43m=\u001b[39;49m\u001b[43mcurried\u001b[49m\u001b[43m,\u001b[49m\u001b[43m \u001b[49m\u001b[43mna_action\u001b[49m\u001b[38;5;241;43m=\u001b[39;49m\u001b[43maction\u001b[49m\u001b[43m,\u001b[49m\u001b[43m \u001b[49m\u001b[43mconvert\u001b[49m\u001b[38;5;241;43m=\u001b[39;49m\u001b[38;5;28;43mself\u001b[39;49m\u001b[38;5;241;43m.\u001b[39;49m\u001b[43mconvert_dtype\u001b[49m\n\u001b[0;32m   1509\u001b[0m \u001b[43m\u001b[49m\u001b[43m)\u001b[49m\n\u001b[0;32m   1511\u001b[0m \u001b[38;5;28;01mif\u001b[39;00m \u001b[38;5;28mlen\u001b[39m(mapped) \u001b[38;5;129;01mand\u001b[39;00m \u001b[38;5;28misinstance\u001b[39m(mapped[\u001b[38;5;241m0\u001b[39m], ABCSeries):\n\u001b[0;32m   1512\u001b[0m     \u001b[38;5;66;03m# GH#43986 Need to do list(mapped) in order to get treated as nested\u001b[39;00m\n\u001b[0;32m   1513\u001b[0m     \u001b[38;5;66;03m#  See also GH#25959 regarding EA support\u001b[39;00m\n\u001b[0;32m   1514\u001b[0m     \u001b[38;5;28;01mreturn\u001b[39;00m obj\u001b[38;5;241m.\u001b[39m_constructor_expanddim(\u001b[38;5;28mlist\u001b[39m(mapped), index\u001b[38;5;241m=\u001b[39mobj\u001b[38;5;241m.\u001b[39mindex)\n",
      "File \u001b[1;32mC:\\Python311\\Lib\\site-packages\\pandas\\core\\base.py:921\u001b[0m, in \u001b[0;36mIndexOpsMixin._map_values\u001b[1;34m(self, mapper, na_action, convert)\u001b[0m\n\u001b[0;32m    918\u001b[0m \u001b[38;5;28;01mif\u001b[39;00m \u001b[38;5;28misinstance\u001b[39m(arr, ExtensionArray):\n\u001b[0;32m    919\u001b[0m     \u001b[38;5;28;01mreturn\u001b[39;00m arr\u001b[38;5;241m.\u001b[39mmap(mapper, na_action\u001b[38;5;241m=\u001b[39mna_action)\n\u001b[1;32m--> 921\u001b[0m \u001b[38;5;28;01mreturn\u001b[39;00m \u001b[43malgorithms\u001b[49m\u001b[38;5;241;43m.\u001b[39;49m\u001b[43mmap_array\u001b[49m\u001b[43m(\u001b[49m\u001b[43marr\u001b[49m\u001b[43m,\u001b[49m\u001b[43m \u001b[49m\u001b[43mmapper\u001b[49m\u001b[43m,\u001b[49m\u001b[43m \u001b[49m\u001b[43mna_action\u001b[49m\u001b[38;5;241;43m=\u001b[39;49m\u001b[43mna_action\u001b[49m\u001b[43m,\u001b[49m\u001b[43m \u001b[49m\u001b[43mconvert\u001b[49m\u001b[38;5;241;43m=\u001b[39;49m\u001b[43mconvert\u001b[49m\u001b[43m)\u001b[49m\n",
      "File \u001b[1;32mC:\\Python311\\Lib\\site-packages\\pandas\\core\\algorithms.py:1743\u001b[0m, in \u001b[0;36mmap_array\u001b[1;34m(arr, mapper, na_action, convert)\u001b[0m\n\u001b[0;32m   1741\u001b[0m values \u001b[38;5;241m=\u001b[39m arr\u001b[38;5;241m.\u001b[39mastype(\u001b[38;5;28mobject\u001b[39m, copy\u001b[38;5;241m=\u001b[39m\u001b[38;5;28;01mFalse\u001b[39;00m)\n\u001b[0;32m   1742\u001b[0m \u001b[38;5;28;01mif\u001b[39;00m na_action \u001b[38;5;129;01mis\u001b[39;00m \u001b[38;5;28;01mNone\u001b[39;00m:\n\u001b[1;32m-> 1743\u001b[0m     \u001b[38;5;28;01mreturn\u001b[39;00m \u001b[43mlib\u001b[49m\u001b[38;5;241;43m.\u001b[39;49m\u001b[43mmap_infer\u001b[49m\u001b[43m(\u001b[49m\u001b[43mvalues\u001b[49m\u001b[43m,\u001b[49m\u001b[43m \u001b[49m\u001b[43mmapper\u001b[49m\u001b[43m,\u001b[49m\u001b[43m \u001b[49m\u001b[43mconvert\u001b[49m\u001b[38;5;241;43m=\u001b[39;49m\u001b[43mconvert\u001b[49m\u001b[43m)\u001b[49m\n\u001b[0;32m   1744\u001b[0m \u001b[38;5;28;01melse\u001b[39;00m:\n\u001b[0;32m   1745\u001b[0m     \u001b[38;5;28;01mreturn\u001b[39;00m lib\u001b[38;5;241m.\u001b[39mmap_infer_mask(\n\u001b[0;32m   1746\u001b[0m         values, mapper, mask\u001b[38;5;241m=\u001b[39misna(values)\u001b[38;5;241m.\u001b[39mview(np\u001b[38;5;241m.\u001b[39muint8), convert\u001b[38;5;241m=\u001b[39mconvert\n\u001b[0;32m   1747\u001b[0m     )\n",
      "File \u001b[1;32mlib.pyx:2972\u001b[0m, in \u001b[0;36mpandas._libs.lib.map_infer\u001b[1;34m()\u001b[0m\n",
      "Cell \u001b[1;32mIn[30], line 1\u001b[0m, in \u001b[0;36m<lambda>\u001b[1;34m(x)\u001b[0m\n\u001b[1;32m----> 1\u001b[0m df\u001b[38;5;241m.\u001b[39mprice_paid\u001b[38;5;241m=\u001b[39mdf\u001b[38;5;241m.\u001b[39mprice_paid\u001b[38;5;241m.\u001b[39mapply(\u001b[38;5;28;01mlambda\u001b[39;00m x :\u001b[43mx\u001b[49m\u001b[38;5;241;43m.\u001b[39;49m\u001b[43mreplace\u001b[49m(\u001b[38;5;124m\"\u001b[39m\u001b[38;5;124m$\u001b[39m\u001b[38;5;124m\"\u001b[39m,\u001b[38;5;124m\"\u001b[39m\u001b[38;5;124m\"\u001b[39m))\n\u001b[0;32m      2\u001b[0m df\u001b[38;5;241m.\u001b[39mprice_paid\u001b[38;5;241m=\u001b[39mdf\u001b[38;5;241m.\u001b[39mprice_paid\u001b[38;5;241m.\u001b[39mastype(\u001b[38;5;28mfloat\u001b[39m)\n",
      "\u001b[1;31mAttributeError\u001b[0m: 'float' object has no attribute 'replace'"
     ]
    }
   ],
   "source": [
    "\n",
    "df.price_paid=df.price_paid.apply(lambda x : x.replace(\"$\",\"\"))\n",
    "df.price_paid=df.price_paid.astype(float)\n"
   ]
  },
  {
   "cell_type": "code",
   "execution_count": 1,
   "id": "7eaa12f6-d83e-4fba-b661-934639c689d1",
   "metadata": {},
   "outputs": [
    {
     "ename": "NameError",
     "evalue": "name 'df' is not defined",
     "output_type": "error",
     "traceback": [
      "\u001b[1;31m---------------------------------------------------------------------------\u001b[0m",
      "\u001b[1;31mNameError\u001b[0m                                 Traceback (most recent call last)",
      "Cell \u001b[1;32mIn[1], line 1\u001b[0m\n\u001b[1;32m----> 1\u001b[0m \u001b[43mdf\u001b[49m\u001b[38;5;241m.\u001b[39mgroupby(\u001b[38;5;124m\"\u001b[39m\u001b[38;5;124mdate\u001b[39m\u001b[38;5;124m\"\u001b[39m)[\u001b[38;5;124m\"\u001b[39m\u001b[38;5;124mprice_paid\u001b[39m\u001b[38;5;124m\"\u001b[39m]\n",
      "\u001b[1;31mNameError\u001b[0m: name 'df' is not defined"
     ]
    }
   ],
   "source": [
    "df.groupby(\"date\")[\"price_paid\"]"
   ]
  },
  {
   "cell_type": "code",
   "execution_count": 2,
   "id": "9ab680ad-8227-42a3-a4c9-0a019ebbff16",
   "metadata": {},
   "outputs": [],
   "source": [
    "import pandas as pd \n",
    "df=pd.read_csv(\"data.csv\")"
   ]
  },
  {
   "cell_type": "code",
   "execution_count": 3,
   "id": "756ae52e-1527-4193-bd4f-7295ab390305",
   "metadata": {},
   "outputs": [
    {
     "data": {
      "text/plain": [
       "date\n",
       "03/01/2021    $5.82$9.89$4.00$4.46$4.82$6.86$10.00$6.58$7.44...\n",
       "03/02/2021    $8.23$6.76$4.67$4.65$7.23$9.93$4.12$5.80$8.77$...\n",
       "03/03/2021    $6.72$9.52$6.77$7.75$4.20$4.43$5.91$9.52$6.11$...\n",
       "03/04/2021    $4.56$6.09$9.71$5.55$5.47$8.62$6.47$3.44$5.92$...\n",
       "03/05/2021    $5.30$4.86$4.26$7.05$3.03$3.23$9.57$4.57$7.79$...\n",
       "03/06/2021    $3.04$7.48$9.67$8.68$3.12$3.06$6.71$3.10$6.73$...\n",
       "03/07/2021    $9.60$4.32$7.65$7.98$6.80$7.88$6.93$6.06$4.93$...\n",
       "03/08/2021    $3.01$3.37$4.92$9.02$4.97$8.33$4.91$8.88$3.80$...\n",
       "03/09/2021    $3.70$9.79$6.06$8.83$8.86$9.58$7.03$8.75$5.98$...\n",
       "03/10/2021    $6.02$9.58$4.38$6.93$7.02$9.38$8.22$9.79$3.34$...\n",
       "03/11/2021    $5.71$6.22$9.35$4.23$3.51$6.88$5.97$3.03$3.73$...\n",
       "03/12/2021    $5.55$6.66$6.94$4.25$5.55$5.68$5.75$6.76$6.77$...\n",
       "03/13/2021    $6.64$8.88$9.37$4.66$3.37$3.63$4.56$6.75$5.65$...\n",
       "03/14/2021    $6.29$9.90$4.04$4.21$3.40$9.60$7.67$8.74$3.63$...\n",
       "03/15/2021    $7.82$4.40$8.37$4.54$5.87$3.23$9.13$8.19$6.80$...\n",
       "03/16/2021    $3.15$4.90$9.81$9.71$9.23$6.79$9.86$5.53$5.33$...\n",
       "03/17/2021    $3.73$3.45$6.57$6.17$8.43$7.56$3.16$5.80$8.97$...\n",
       "03/18/2021    $4.42$6.94$6.31$4.97$3.05$9.71$9.98$5.86$8.66$...\n",
       "03/19/2021    $8.32$3.70$5.92$8.12$3.18$7.91$8.45$4.74$9.27$...\n",
       "03/20/2021    $3.16$5.34$9.50$3.37$7.68$4.39$6.89$4.71$5.90$...\n",
       "03/21/2021    $4.53$9.13$4.95$3.96$7.91$9.47$7.19$6.84$8.17$...\n",
       "03/22/2021    $4.54$5.29$8.11$8.71$5.88$9.51$7.03$8.63$3.87$...\n",
       "03/23/2021    $9.05$4.96$7.54$7.78$5.72$4.57$7.05$9.33$8.61$...\n",
       "03/24/2021    $9.24$5.97$4.10$5.83$3.93$3.04$9.47$4.47$9.60$...\n",
       "03/25/2021    $5.82$3.06$9.99$6.94$7.56$8.96$6.68$9.47$6.07$...\n",
       "03/26/2021    $3.88$8.85$3.03$6.71$8.68$8.21$5.49$9.96$9.31$...\n",
       "03/27/2021    $6.44$5.88$9.70$9.68$4.39$7.20$7.17$4.42$8.65$...\n",
       "03/28/2021    $5.36$7.81$6.39$3.72$9.37$4.00$6.96$5.49$6.16$...\n",
       "03/29/2021    $5.00$7.80$4.69$4.96$8.69$4.24$5.82$9.30$5.21$...\n",
       "03/30/2021    $4.66$8.96$7.27$8.61$5.00$5.35$5.08$7.04$3.23$...\n",
       "Name: price_paid, dtype: object"
      ]
     },
     "execution_count": 3,
     "metadata": {},
     "output_type": "execute_result"
    }
   ],
   "source": [
    "df.groupby(\"date\")[\"price_paid\"].sum()"
   ]
  },
  {
   "cell_type": "code",
   "execution_count": 6,
   "id": "82e726db-3874-4115-bfcc-9a893ac28078",
   "metadata": {},
   "outputs": [],
   "source": [
    "df.price_paid=df.price_paid.apply(lambda x : x.replace(\"$\",\"\"))\n",
    "df.price_paid=df.price_paid.astype(float)                          "
   ]
  },
  {
   "cell_type": "code",
   "execution_count": 10,
   "id": "e17eee7c-8818-468c-a8d7-05046c6da268",
   "metadata": {},
   "outputs": [
    {
     "data": {
      "text/plain": [
       "<Axes: xlabel='date'>"
      ]
     },
     "execution_count": 10,
     "metadata": {},
     "output_type": "execute_result"
    },
    {
     "data": {
      "image/png": "[encoded data removed]",
      "text/plain": [
       "<Figure size 2000x1000 with 1 Axes>"
      ]
     },
     "metadata": {},
     "output_type": "display_data"
    }
   ],
   "source": [
    "df.groupby(\"date\")[\"price_paid\"].sum().plot(figsize=[20,10])"
   ]
  },
  {
   "cell_type": "code",
   "execution_count": 12,
   "id": "2b589ce0-2fb4-4d8c-9a20-96cfe365928d",
   "metadata": {},
   "outputs": [
    {
     "data": {
      "text/plain": [
       "<Axes: xlabel='date'>"
      ]
     },
     "execution_count": 12,
     "metadata": {},
     "output_type": "execute_result"
    },
    {
     "data": {
      "image/png": "[encoded data removed]",
      "text/plain": [
       "<Figure size 2000x1000 with 1 Axes>"
      ]
     },
     "metadata": {},
     "output_type": "display_data"
    }
   ],
   "source": [
    "df.groupby(\"date\")[\"price_paid\"].sum().plot(figsize=[20,10])"
   ]
  },
  {
   "cell_type": "code",
   "execution_count": 15,
   "id": "b00d6198-c70b-4553-b11b-f2b9ed0d3f0b",
   "metadata": {},
   "outputs": [
    {
     "data": {
      "text/plain": [
       "<Axes: xlabel='country'>"
      ]
     },
     "execution_count": 15,
     "metadata": {},
     "output_type": "execute_result"
    },
    {
     "data": {
      "image/png": "[encoded data removed]",
      "text/plain": [
       "<Figure size 640x480 with 1 Axes>"
      ]
     },
     "metadata": {},
     "output_type": "display_data"
    }
   ],
   "source": [
    "df.groupby(\"country\")[\"price_paid\"].sum().plot()"
   ]
  },
  {
   "cell_type": "code",
   "execution_count": 18,
   "id": "4a8973b2-e693-4e48-92f9-cd51d866107e",
   "metadata": {},
   "outputs": [
    {
     "data": {
      "text/plain": [
       "<Axes: ylabel='price_paid'>"
      ]
     },
     "execution_count": 18,
     "metadata": {},
     "output_type": "execute_result"
    },
    {
     "data": {
      "image/png": "[encoded data removed]",
      "text/plain": [
       "<Figure size 640x480 with 1 Axes>"
      ]
     },
     "metadata": {},
     "output_type": "display_data"
    }
   ],
   "source": [
    "df.groupby(\"gender\")[\"price_paid\"].sum().plot.pie(legend=True)"
   ]
  },
  {
   "cell_type": "code",
   "execution_count": 22,
   "id": "4025ef14-74cc-4fee-a8cc-02599e4dace9",
   "metadata": {},
   "outputs": [
    {
     "data": {
      "text/plain": [
       "<Axes: xlabel='country'>"
      ]
     },
     "execution_count": 22,
     "metadata": {},
     "output_type": "execute_result"
    },
    {
     "data": {
      "image/png": "[encoded data removed]",
      "text/plain": [
       "<Figure size 640x480 with 1 Axes>"
      ]
     },
     "metadata": {},
     "output_type": "display_data"
    }
   ],
   "source": [
    "df.groupby(\"country\")[\"price_paid\"].sum().plot.bar()"
   ]
  },
  {
   "cell_type": "code",
   "execution_count": null,
   "id": "2e553b6a-f1c7-45ce-af12-b8745cef9397",
   "metadata": {},
   "outputs": [],
   "source": []
  }
 ],
 "metadata": {
  "kernelspec": {
   "display_name": "Python 3 (ipykernel)",
   "language": "python",
   "name": "python3"
  },
  "language_info": {
   "codemirror_mode": {
    "name": "ipython",
    "version": 3
   },
   "file_extension": ".py",
   "mimetype": "text/x-python",
   "name": "python",
   "nbconvert_exporter": "python",
   "pygments_lexer": "ipython3",
   "version": "3.13.3"
  }
 },
 "nbformat": 4,
 "nbformat_minor": 5
}
