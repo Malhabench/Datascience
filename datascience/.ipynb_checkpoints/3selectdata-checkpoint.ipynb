{
 "cells": [
  {
   "cell_type": "code",
   "execution_count": 2,
   "id": "43500d47-660f-4227-838b-c0de9140bf8f",
   "metadata": {},
   "outputs": [],
   "source": [
    "import pandas as pd \n",
    "df= pd.read_csv(\"data.csv\")"
   ]
  },
  {
   "cell_type": "code",
   "execution_count": 3,
   "id": "a64e6d04-9fd7-4143-9a28-84bf7d66be34",
   "metadata": {},
   "outputs": [
    {
     "data": {
      "text/html": [
       "<div>\n",
       "<style scoped>\n",
       "    .dataframe tbody tr th:only-of-type {\n",
       "        vertical-align: middle;\n",
       "    }\n",
       "\n",
       "    .dataframe tbody tr th {\n",
       "        vertical-align: top;\n",
       "    }\n",
       "\n",
       "    .dataframe thead th {\n",
       "        text-align: right;\n",
       "    }\n",
       "</style>\n",
       "<table border=\"1\" class=\"dataframe\">\n",
       "  <thead>\n",
       "    <tr style=\"text-align: right;\">\n",
       "      <th></th>\n",
       "      <th>id</th>\n",
       "      <th>date</th>\n",
       "      <th>first_name</th>\n",
       "      <th>last_name</th>\n",
       "      <th>email</th>\n",
       "      <th>gender</th>\n",
       "      <th>ip_address</th>\n",
       "      <th>country</th>\n",
       "      <th>price_paid</th>\n",
       "      <th>tax</th>\n",
       "    </tr>\n",
       "  </thead>\n",
       "  <tbody>\n",
       "    <tr>\n",
       "      <th>0</th>\n",
       "      <td>1</td>\n",
       "      <td>03/28/2021</td>\n",
       "      <td>Marylin</td>\n",
       "      <td>Alders</td>\n",
       "      <td>malders0@shop-pro.jp</td>\n",
       "      <td>Male</td>\n",
       "      <td>160.119.8.119</td>\n",
       "      <td>Canada</td>\n",
       "      <td>$5.36</td>\n",
       "      <td>NaN</td>\n",
       "    </tr>\n",
       "    <tr>\n",
       "      <th>1</th>\n",
       "      <td>2</td>\n",
       "      <td>03/19/2021</td>\n",
       "      <td>Hinda</td>\n",
       "      <td>Harridge</td>\n",
       "      <td>hharridge1@gnu.org</td>\n",
       "      <td>Female</td>\n",
       "      <td>210.51.172.132</td>\n",
       "      <td>Canada</td>\n",
       "      <td>$8.32</td>\n",
       "      <td>NaN</td>\n",
       "    </tr>\n",
       "    <tr>\n",
       "      <th>2</th>\n",
       "      <td>3</td>\n",
       "      <td>03/17/2021</td>\n",
       "      <td>Erl</td>\n",
       "      <td>Kilminster</td>\n",
       "      <td>ekilminster2@etsy.com</td>\n",
       "      <td>Male</td>\n",
       "      <td>213.8.101.145</td>\n",
       "      <td>United States</td>\n",
       "      <td>$3.73</td>\n",
       "      <td>20.0</td>\n",
       "    </tr>\n",
       "    <tr>\n",
       "      <th>3</th>\n",
       "      <td>4</td>\n",
       "      <td>03/19/2021</td>\n",
       "      <td>Grata</td>\n",
       "      <td>Brantl</td>\n",
       "      <td>gbrantl3@umn.edu</td>\n",
       "      <td>Female</td>\n",
       "      <td>5.140.237.101</td>\n",
       "      <td>United States</td>\n",
       "      <td>$3.70</td>\n",
       "      <td>20.0</td>\n",
       "    </tr>\n",
       "    <tr>\n",
       "      <th>4</th>\n",
       "      <td>5</td>\n",
       "      <td>03/24/2021</td>\n",
       "      <td>Kanya</td>\n",
       "      <td>Beasant</td>\n",
       "      <td>kbeasant4@jigsy.com</td>\n",
       "      <td>Male</td>\n",
       "      <td>106.252.162.233</td>\n",
       "      <td>Morocco</td>\n",
       "      <td>$9.24</td>\n",
       "      <td>20.0</td>\n",
       "    </tr>\n",
       "  </tbody>\n",
       "</table>\n",
       "</div>"
      ],
      "text/plain": [
       "   id        date first_name   last_name                  email  gender  \\\n",
       "0   1  03/28/2021    Marylin      Alders   malders0@shop-pro.jp    Male   \n",
       "1   2  03/19/2021      Hinda    Harridge     hharridge1@gnu.org  Female   \n",
       "2   3  03/17/2021        Erl  Kilminster  ekilminster2@etsy.com    Male   \n",
       "3   4  03/19/2021      Grata      Brantl       gbrantl3@umn.edu  Female   \n",
       "4   5  03/24/2021      Kanya     Beasant    kbeasant4@jigsy.com    Male   \n",
       "\n",
       "        ip_address        country price_paid   tax  \n",
       "0    160.119.8.119         Canada      $5.36   NaN  \n",
       "1   210.51.172.132         Canada      $8.32   NaN  \n",
       "2    213.8.101.145  United States      $3.73  20.0  \n",
       "3    5.140.237.101  United States      $3.70  20.0  \n",
       "4  106.252.162.233        Morocco      $9.24  20.0  "
      ]
     },
     "execution_count": 3,
     "metadata": {},
     "output_type": "execute_result"
    }
   ],
   "source": [
    "df.head()"
   ]
  },
  {
   "cell_type": "code",
   "execution_count": 4,
   "id": "323b0cb3-0b1a-4dab-8284-21a0f0a6df7b",
   "metadata": {},
   "outputs": [
    {
     "data": {
      "text/plain": [
       "0    Male\n",
       "Name: gender, dtype: object"
      ]
     },
     "execution_count": 4,
     "metadata": {},
     "output_type": "execute_result"
    }
   ],
   "source": [
    "df['gender'].head(1)"
   ]
  },
  {
   "cell_type": "code",
   "execution_count": 5,
   "id": "d0d0d2b9-0494-4bec-92d5-fd527e6c6b3c",
   "metadata": {},
   "outputs": [
    {
     "data": {
      "text/plain": [
       "0      Male\n",
       "1    Female\n",
       "2      Male\n",
       "3    Female\n",
       "4      Male\n",
       "Name: gender, dtype: object"
      ]
     },
     "execution_count": 5,
     "metadata": {},
     "output_type": "execute_result"
    }
   ],
   "source": [
    "df['gender'].head()"
   ]
  },
  {
   "cell_type": "code",
   "execution_count": 6,
   "id": "25297582-c9f3-4152-8a34-03327609f673",
   "metadata": {},
   "outputs": [
    {
     "data": {
      "text/plain": [
       "0     malders0@shop-pro.jp\n",
       "1       hharridge1@gnu.org\n",
       "2    ekilminster2@etsy.com\n",
       "3         gbrantl3@umn.edu\n",
       "4      kbeasant4@jigsy.com\n",
       "Name: email, dtype: object"
      ]
     },
     "execution_count": 6,
     "metadata": {},
     "output_type": "execute_result"
    }
   ],
   "source": [
    "df['email'].head()"
   ]
  },
  {
   "cell_type": "code",
   "execution_count": 1,
   "id": "0135d72f-501a-4f80-95c1-49c89956591e",
   "metadata": {},
   "outputs": [
    {
     "ename": "NameError",
     "evalue": "name 'pd' is not defined",
     "output_type": "error",
     "traceback": [
      "\u001b[1;31m---------------------------------------------------------------------------\u001b[0m",
      "\u001b[1;31mNameError\u001b[0m                                 Traceback (most recent call last)",
      "Cell \u001b[1;32mIn[1], line 2\u001b[0m\n\u001b[0;32m      1\u001b[0m \u001b[38;5;28;01mimport\u001b[39;00m \u001b[38;5;21;01mpandas\u001b[39;00m \u001b[38;5;28;01mas\u001b[39;00m \u001b[38;5;21;01mpf\u001b[39;00m\n\u001b[1;32m----> 2\u001b[0m df\u001b[38;5;241m=\u001b[39m\u001b[43mpd\u001b[49m\u001b[38;5;241m.\u001b[39mread_csv(\u001b[38;5;124m\"\u001b[39m\u001b[38;5;124mdata.csv\u001b[39m\u001b[38;5;124m\"\u001b[39m)\n\u001b[0;32m      3\u001b[0m df\u001b[38;5;241m.\u001b[39memail\u001b[38;5;241m.\u001b[39mhead()\n",
      "\u001b[1;31mNameError\u001b[0m: name 'pd' is not defined"
     ]
    }
   ],
   "source": [
    "import pandas as pd\n",
    "df=pd.read_csv(\"data.csv\")\n",
    "df.email.head()"
   ]
  },
  {
   "cell_type": "code",
   "execution_count": 2,
   "id": "af479d09-9c37-4e2d-a0b7-979afd8897c2",
   "metadata": {},
   "outputs": [
    {
     "data": {
      "text/plain": [
       "0     malders0@shop-pro.jp\n",
       "1       hharridge1@gnu.org\n",
       "2    ekilminster2@etsy.com\n",
       "3         gbrantl3@umn.edu\n",
       "4      kbeasant4@jigsy.com\n",
       "Name: email, dtype: object"
      ]
     },
     "execution_count": 2,
     "metadata": {},
     "output_type": "execute_result"
    }
   ],
   "source": [
    "import pandas as pd\n",
    "df=pd.read_csv(\"data.csv\")\n",
    "df.email.head()\n"
   ]
  },
  {
   "cell_type": "code",
   "execution_count": 3,
   "id": "54113136-94fd-4805-9f23-829a89d4af20",
   "metadata": {},
   "outputs": [
    {
     "data": {
      "text/plain": [
       "0     malders0@shop-pro.jp\n",
       "1       hharridge1@gnu.org\n",
       "2    ekilminster2@etsy.com\n",
       "3         gbrantl3@umn.edu\n",
       "4      kbeasant4@jigsy.com\n",
       "Name: email, dtype: object"
      ]
     },
     "execution_count": 3,
     "metadata": {},
     "output_type": "execute_result"
    }
   ],
   "source": [
    "df[\"email\"].head()"
   ]
  },
  {
   "cell_type": "code",
   "execution_count": 4,
   "id": "7233a491-0830-4898-9fa4-5181b1a42334",
   "metadata": {},
   "outputs": [
    {
     "data": {
      "text/plain": [
       "pandas.core.frame.DataFrame"
      ]
     },
     "execution_count": 4,
     "metadata": {},
     "output_type": "execute_result"
    }
   ],
   "source": [
    "type (df)\n"
   ]
  },
  {
   "cell_type": "code",
   "execution_count": 5,
   "id": "b1855982-f430-4ecb-baf0-6799563b2fe2",
   "metadata": {},
   "outputs": [
    {
     "data": {
      "text/plain": [
       "pandas.core.frame.DataFrame"
      ]
     },
     "execution_count": 5,
     "metadata": {},
     "output_type": "execute_result"
    }
   ],
   "source": [
    "type (df)\n"
   ]
  },
  {
   "cell_type": "code",
   "execution_count": 6,
   "id": "19f48ab1-435a-4a52-935e-13fe49d158e3",
   "metadata": {},
   "outputs": [
    {
     "data": {
      "text/plain": [
       "pandas.core.frame.DataFrame"
      ]
     },
     "execution_count": 6,
     "metadata": {},
     "output_type": "execute_result"
    }
   ],
   "source": [
    "type (df)\n"
   ]
  },
  {
   "cell_type": "code",
   "execution_count": 7,
   "id": "8eb6724e-29a7-4d2b-8d3d-a1ef964cdc0b",
   "metadata": {},
   "outputs": [
    {
     "data": {
      "text/plain": [
       "pandas.core.frame.DataFrame"
      ]
     },
     "execution_count": 7,
     "metadata": {},
     "output_type": "execute_result"
    }
   ],
   "source": [
    "type (df)\n"
   ]
  },
  {
   "cell_type": "code",
   "execution_count": null,
   "id": "a01c5cda-bcb7-49d0-b761-cde2fc44f54f",
   "metadata": {},
   "outputs": [],
   "source": []
  },
  {
   "cell_type": "code",
   "execution_count": null,
   "id": "56908e13-61ec-46d3-8168-ff1ccce21a13",
   "metadata": {},
   "outputs": [],
   "source": []
  },
  {
   "cell_type": "code",
   "execution_count": 8,
   "id": "eb985adc-b2c5-449e-8a82-dd43e77c26d5",
   "metadata": {},
   "outputs": [
    {
     "data": {
      "text/plain": [
       "pandas.core.series.Series"
      ]
     },
     "execution_count": 8,
     "metadata": {},
     "output_type": "execute_result"
    }
   ],
   "source": [
    "type (df.email)"
   ]
  },
  {
   "cell_type": "code",
   "execution_count": null,
   "id": "7eda27a9-59e6-4f11-a112-8b45098c66b6",
   "metadata": {},
   "outputs": [],
   "source": [
    "#Le Dataframe cest lensemble des colonnes et lignes\n",
    "#Series cest un seule colonne \n"
   ]
  },
  {
   "cell_type": "code",
   "execution_count": null,
   "id": "c10abfbf-e5ff-4a5b-8bec-3e863f0e9c8c",
   "metadata": {},
   "outputs": [],
   "source": []
  }
 ],
 "metadata": {
  "kernelspec": {
   "display_name": "Python 3 (ipykernel)",
   "language": "python",
   "name": "python3"
  },
  "language_info": {
   "codemirror_mode": {
    "name": "ipython",
    "version": 3
   },
   "file_extension": ".py",
   "mimetype": "text/x-python",
   "name": "python",
   "nbconvert_exporter": "python",
   "pygments_lexer": "ipython3",
   "version": "3.11.0"
  }
 },
 "nbformat": 4,
 "nbformat_minor": 5
}
