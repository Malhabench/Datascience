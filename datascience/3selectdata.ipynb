{
 "cells": [
  {
   "cell_type": "code",
   "execution_count": 2,
   "id": "43500d47-660f-4227-838b-c0de9140bf8f",
   "metadata": {},
   "outputs": [],
   "source": [
    "import pandas as pd \n",
    "df= pd.read_csv(\"data.csv\")"
   ]
  },
  {
   "cell_type": "code",
   "execution_count": 3,
   "id": "a64e6d04-9fd7-4143-9a28-84bf7d66be34",
   "metadata": {},
   "outputs": [
    {
     "data": {
      "text/html": [
       "<div>\n",
       "<style scoped>\n",
       "    .dataframe tbody tr th:only-of-type {\n",
       "        vertical-align: middle;\n",
       "    }\n",
       "\n",
       "    .dataframe tbody tr th {\n",
       "        vertical-align: top;\n",
       "    }\n",
       "\n",
       "    .dataframe thead th {\n",
       "        text-align: right;\n",
       "    }\n",
       "</style>\n",
       "<table border=\"1\" class=\"dataframe\">\n",
       "  <thead>\n",
       "    <tr style=\"text-align: right;\">\n",
       "      <th></th>\n",
       "      <th>id</th>\n",
       "      <th>date</th>\n",
       "      <th>first_name</th>\n",
       "      <th>last_name</th>\n",
       "      <th>email</th>\n",
       "      <th>gender</th>\n",
       "      <th>ip_address</th>\n",
       "      <th>country</th>\n",
       "      <th>price_paid</th>\n",
       "      <th>tax</th>\n",
       "    </tr>\n",
       "  </thead>\n",
       "  <tbody>\n",
       "    <tr>\n",
       "      <th>0</th>\n",
       "      <td>1</td>\n",
       "      <td>03/28/2021</td>\n",
       "      <td>Marylin</td>\n",
       "      <td>Alders</td>\n",
       "      <td>malders0@shop-pro.jp</td>\n",
       "      <td>Male</td>\n",
       "      <td>160.119.8.119</td>\n",
       "      <td>Canada</td>\n",
       "      <td>$5.36</td>\n",
       "      <td>NaN</td>\n",
       "    </tr>\n",
       "    <tr>\n",
       "      <th>1</th>\n",
       "      <td>2</td>\n",
       "      <td>03/19/2021</td>\n",
       "      <td>Hinda</td>\n",
       "      <td>Harridge</td>\n",
       "      <td>hharridge1@gnu.org</td>\n",
       "      <td>Female</td>\n",
       "      <td>210.51.172.132</td>\n",
       "      <td>Canada</td>\n",
       "      <td>$8.32</td>\n",
       "      <td>NaN</td>\n",
       "    </tr>\n",
       "    <tr>\n",
       "      <th>2</th>\n",
       "      <td>3</td>\n",
       "      <td>03/17/2021</td>\n",
       "      <td>Erl</td>\n",
       "      <td>Kilminster</td>\n",
       "      <td>ekilminster2@etsy.com</td>\n",
       "      <td>Male</td>\n",
       "      <td>213.8.101.145</td>\n",
       "      <td>United States</td>\n",
       "      <td>$3.73</td>\n",
       "      <td>20.0</td>\n",
       "    </tr>\n",
       "    <tr>\n",
       "      <th>3</th>\n",
       "      <td>4</td>\n",
       "      <td>03/19/2021</td>\n",
       "      <td>Grata</td>\n",
       "      <td>Brantl</td>\n",
       "      <td>gbrantl3@umn.edu</td>\n",
       "      <td>Female</td>\n",
       "      <td>5.140.237.101</td>\n",
       "      <td>United States</td>\n",
       "      <td>$3.70</td>\n",
       "      <td>20.0</td>\n",
       "    </tr>\n",
       "    <tr>\n",
       "      <th>4</th>\n",
       "      <td>5</td>\n",
       "      <td>03/24/2021</td>\n",
       "      <td>Kanya</td>\n",
       "      <td>Beasant</td>\n",
       "      <td>kbeasant4@jigsy.com</td>\n",
       "      <td>Male</td>\n",
       "      <td>106.252.162.233</td>\n",
       "      <td>Morocco</td>\n",
       "      <td>$9.24</td>\n",
       "      <td>20.0</td>\n",
       "    </tr>\n",
       "  </tbody>\n",
       "</table>\n",
       "</div>"
      ],
      "text/plain": [
       "   id        date first_name   last_name                  email  gender  \\\n",
       "0   1  03/28/2021    Marylin      Alders   malders0@shop-pro.jp    Male   \n",
       "1   2  03/19/2021      Hinda    Harridge     hharridge1@gnu.org  Female   \n",
       "2   3  03/17/2021        Erl  Kilminster  ekilminster2@etsy.com    Male   \n",
       "3   4  03/19/2021      Grata      Brantl       gbrantl3@umn.edu  Female   \n",
       "4   5  03/24/2021      Kanya     Beasant    kbeasant4@jigsy.com    Male   \n",
       "\n",
       "        ip_address        country price_paid   tax  \n",
       "0    160.119.8.119         Canada      $5.36   NaN  \n",
       "1   210.51.172.132         Canada      $8.32   NaN  \n",
       "2    213.8.101.145  United States      $3.73  20.0  \n",
       "3    5.140.237.101  United States      $3.70  20.0  \n",
       "4  106.252.162.233        Morocco      $9.24  20.0  "
      ]
     },
     "execution_count": 3,
     "metadata": {},
     "output_type": "execute_result"
    }
   ],
   "source": [
    "df.head()"
   ]
  },
  {
   "cell_type": "code",
   "execution_count": 4,
   "id": "323b0cb3-0b1a-4dab-8284-21a0f0a6df7b",
   "metadata": {},
   "outputs": [
    {
     "data": {
      "text/plain": [
       "0    Male\n",
       "Name: gender, dtype: object"
      ]
     },
     "execution_count": 4,
     "metadata": {},
     "output_type": "execute_result"
    }
   ],
   "source": [
    "df['gender'].head(1)"
   ]
  },
  {
   "cell_type": "code",
   "execution_count": 5,
   "id": "d0d0d2b9-0494-4bec-92d5-fd527e6c6b3c",
   "metadata": {},
   "outputs": [
    {
     "data": {
      "text/plain": [
       "0      Male\n",
       "1    Female\n",
       "2      Male\n",
       "3    Female\n",
       "4      Male\n",
       "Name: gender, dtype: object"
      ]
     },
     "execution_count": 5,
     "metadata": {},
     "output_type": "execute_result"
    }
   ],
   "source": [
    "df['gender'].head()"
   ]
  },
  {
   "cell_type": "code",
   "execution_count": 6,
   "id": "25297582-c9f3-4152-8a34-03327609f673",
   "metadata": {},
   "outputs": [
    {
     "data": {
      "text/plain": [
       "0     malders0@shop-pro.jp\n",
       "1       hharridge1@gnu.org\n",
       "2    ekilminster2@etsy.com\n",
       "3         gbrantl3@umn.edu\n",
       "4      kbeasant4@jigsy.com\n",
       "Name: email, dtype: object"
      ]
     },
     "execution_count": 6,
     "metadata": {},
     "output_type": "execute_result"
    }
   ],
   "source": [
    "df['email'].head()"
   ]
  },
  {
   "cell_type": "code",
   "execution_count": 1,
   "id": "0135d72f-501a-4f80-95c1-49c89956591e",
   "metadata": {},
   "outputs": [
    {
     "ename": "NameError",
     "evalue": "name 'pd' is not defined",
     "output_type": "error",
     "traceback": [
      "\u001b[1;31m---------------------------------------------------------------------------\u001b[0m",
      "\u001b[1;31mNameError\u001b[0m                                 Traceback (most recent call last)",
      "Cell \u001b[1;32mIn[1], line 2\u001b[0m\n\u001b[0;32m      1\u001b[0m \u001b[38;5;28;01mimport\u001b[39;00m \u001b[38;5;21;01mpandas\u001b[39;00m \u001b[38;5;28;01mas\u001b[39;00m \u001b[38;5;21;01mpf\u001b[39;00m\n\u001b[1;32m----> 2\u001b[0m df\u001b[38;5;241m=\u001b[39m\u001b[43mpd\u001b[49m\u001b[38;5;241m.\u001b[39mread_csv(\u001b[38;5;124m\"\u001b[39m\u001b[38;5;124mdata.csv\u001b[39m\u001b[38;5;124m\"\u001b[39m)\n\u001b[0;32m      3\u001b[0m df\u001b[38;5;241m.\u001b[39memail\u001b[38;5;241m.\u001b[39mhead()\n",
      "\u001b[1;31mNameError\u001b[0m: name 'pd' is not defined"
     ]
    }
   ],
   "source": [
    "import pandas as pd\n",
    "df=pd.read_csv(\"data.csv\")\n",
    "df.email.head()"
   ]
  },
  {
   "cell_type": "code",
   "execution_count": 2,
   "id": "af479d09-9c37-4e2d-a0b7-979afd8897c2",
   "metadata": {},
   "outputs": [
    {
     "data": {
      "text/plain": [
       "0     malders0@shop-pro.jp\n",
       "1       hharridge1@gnu.org\n",
       "2    ekilminster2@etsy.com\n",
       "3         gbrantl3@umn.edu\n",
       "4      kbeasant4@jigsy.com\n",
       "Name: email, dtype: object"
      ]
     },
     "execution_count": 2,
     "metadata": {},
     "output_type": "execute_result"
    }
   ],
   "source": [
    "import pandas as pd\n",
    "df=pd.read_csv(\"data.csv\")\n",
    "df.email.head()\n"
   ]
  },
  {
   "cell_type": "code",
   "execution_count": 3,
   "id": "54113136-94fd-4805-9f23-829a89d4af20",
   "metadata": {},
   "outputs": [
    {
     "data": {
      "text/plain": [
       "0     malders0@shop-pro.jp\n",
       "1       hharridge1@gnu.org\n",
       "2    ekilminster2@etsy.com\n",
       "3         gbrantl3@umn.edu\n",
       "4      kbeasant4@jigsy.com\n",
       "Name: email, dtype: object"
      ]
     },
     "execution_count": 3,
     "metadata": {},
     "output_type": "execute_result"
    }
   ],
   "source": [
    "df[\"email\"].head()"
   ]
  },
  {
   "cell_type": "code",
   "execution_count": 4,
   "id": "7233a491-0830-4898-9fa4-5181b1a42334",
   "metadata": {},
   "outputs": [
    {
     "data": {
      "text/plain": [
       "pandas.core.frame.DataFrame"
      ]
     },
     "execution_count": 4,
     "metadata": {},
     "output_type": "execute_result"
    }
   ],
   "source": [
    "type (df)\n"
   ]
  },
  {
   "cell_type": "code",
   "execution_count": 5,
   "id": "b1855982-f430-4ecb-baf0-6799563b2fe2",
   "metadata": {},
   "outputs": [
    {
     "data": {
      "text/plain": [
       "pandas.core.frame.DataFrame"
      ]
     },
     "execution_count": 5,
     "metadata": {},
     "output_type": "execute_result"
    }
   ],
   "source": [
    "type (df)\n"
   ]
  },
  {
   "cell_type": "code",
   "execution_count": 6,
   "id": "19f48ab1-435a-4a52-935e-13fe49d158e3",
   "metadata": {},
   "outputs": [
    {
     "data": {
      "text/plain": [
       "pandas.core.frame.DataFrame"
      ]
     },
     "execution_count": 6,
     "metadata": {},
     "output_type": "execute_result"
    }
   ],
   "source": [
    "type (df)\n"
   ]
  },
  {
   "cell_type": "code",
   "execution_count": 7,
   "id": "8eb6724e-29a7-4d2b-8d3d-a1ef964cdc0b",
   "metadata": {},
   "outputs": [
    {
     "data": {
      "text/plain": [
       "pandas.core.frame.DataFrame"
      ]
     },
     "execution_count": 7,
     "metadata": {},
     "output_type": "execute_result"
    }
   ],
   "source": [
    "type (df)\n"
   ]
  },
  {
   "cell_type": "code",
   "execution_count": null,
   "id": "a01c5cda-bcb7-49d0-b761-cde2fc44f54f",
   "metadata": {},
   "outputs": [],
   "source": []
  },
  {
   "cell_type": "code",
   "execution_count": null,
   "id": "56908e13-61ec-46d3-8168-ff1ccce21a13",
   "metadata": {},
   "outputs": [],
   "source": []
  },
  {
   "cell_type": "code",
   "execution_count": 8,
   "id": "eb985adc-b2c5-449e-8a82-dd43e77c26d5",
   "metadata": {},
   "outputs": [
    {
     "data": {
      "text/plain": [
       "pandas.core.series.Series"
      ]
     },
     "execution_count": 8,
     "metadata": {},
     "output_type": "execute_result"
    }
   ],
   "source": [
    "type (df.email)"
   ]
  },
  {
   "cell_type": "code",
   "execution_count": null,
   "id": "7eda27a9-59e6-4f11-a112-8b45098c66b6",
   "metadata": {},
   "outputs": [],
   "source": [
    "#Le Dataframe cest lensemble des colonnes et lignes\n",
    "#Series cest un seule colonne \n"
   ]
  },
  {
   "cell_type": "code",
   "execution_count": 9,
   "id": "c10abfbf-e5ff-4a5b-8bec-3e863f0e9c8c",
   "metadata": {},
   "outputs": [
    {
     "data": {
      "text/plain": [
       "995    Female\n",
       "996    Female\n",
       "997      Male\n",
       "998      Male\n",
       "999       NaN\n",
       "Name: gender, dtype: object"
      ]
     },
     "execution_count": 9,
     "metadata": {},
     "output_type": "execute_result"
    }
   ],
   "source": [
    "df.gender.tail()"
   ]
  },
  {
   "cell_type": "code",
   "execution_count": 10,
   "id": "88be6b3f-51d7-46d9-bd41-a78668cd1a96",
   "metadata": {},
   "outputs": [
    {
     "ename": "AttributeError",
     "evalue": "'DataFrame' object has no attribute 'age'",
     "output_type": "error",
     "traceback": [
      "\u001b[1;31m---------------------------------------------------------------------------\u001b[0m",
      "\u001b[1;31mAttributeError\u001b[0m                            Traceback (most recent call last)",
      "\u001b[1;32m~\\AppData\\Local\\Temp\\ipykernel_24020\\2164138963.py\u001b[0m in \u001b[0;36m?\u001b[1;34m()\u001b[0m\n\u001b[1;32m----> 1\u001b[1;33m \u001b[0mdf\u001b[0m\u001b[1;33m.\u001b[0m\u001b[0mage\u001b[0m\u001b[1;33m.\u001b[0m\u001b[0mtail\u001b[0m\u001b[1;33m(\u001b[0m\u001b[1;33m)\u001b[0m\u001b[1;33m\u001b[0m\u001b[1;33m\u001b[0m\u001b[0m\n\u001b[0m",
      "\u001b[1;32mC:\\Python311\\Lib\\site-packages\\pandas\\core\\generic.py\u001b[0m in \u001b[0;36m?\u001b[1;34m(self, name)\u001b[0m\n\u001b[0;32m   6295\u001b[0m             \u001b[1;32mand\u001b[0m \u001b[0mname\u001b[0m \u001b[1;32mnot\u001b[0m \u001b[1;32min\u001b[0m \u001b[0mself\u001b[0m\u001b[1;33m.\u001b[0m\u001b[0m_accessors\u001b[0m\u001b[1;33m\u001b[0m\u001b[1;33m\u001b[0m\u001b[0m\n\u001b[0;32m   6296\u001b[0m             \u001b[1;32mand\u001b[0m \u001b[0mself\u001b[0m\u001b[1;33m.\u001b[0m\u001b[0m_info_axis\u001b[0m\u001b[1;33m.\u001b[0m\u001b[0m_can_hold_identifiers_and_holds_name\u001b[0m\u001b[1;33m(\u001b[0m\u001b[0mname\u001b[0m\u001b[1;33m)\u001b[0m\u001b[1;33m\u001b[0m\u001b[1;33m\u001b[0m\u001b[0m\n\u001b[0;32m   6297\u001b[0m         ):\n\u001b[0;32m   6298\u001b[0m             \u001b[1;32mreturn\u001b[0m \u001b[0mself\u001b[0m\u001b[1;33m[\u001b[0m\u001b[0mname\u001b[0m\u001b[1;33m]\u001b[0m\u001b[1;33m\u001b[0m\u001b[1;33m\u001b[0m\u001b[0m\n\u001b[1;32m-> 6299\u001b[1;33m         \u001b[1;32mreturn\u001b[0m \u001b[0mobject\u001b[0m\u001b[1;33m.\u001b[0m\u001b[0m__getattribute__\u001b[0m\u001b[1;33m(\u001b[0m\u001b[0mself\u001b[0m\u001b[1;33m,\u001b[0m \u001b[0mname\u001b[0m\u001b[1;33m)\u001b[0m\u001b[1;33m\u001b[0m\u001b[1;33m\u001b[0m\u001b[0m\n\u001b[0m",
      "\u001b[1;31mAttributeError\u001b[0m: 'DataFrame' object has no attribute 'age'"
     ]
    }
   ],
   "source": [
    "df.age.tail()"
   ]
  },
  {
   "cell_type": "code",
   "execution_count": 11,
   "id": "841cacc9-9ce1-49d8-a264-9867e5da5e9e",
   "metadata": {},
   "outputs": [
    {
     "data": {
      "text/html": [
       "<div>\n",
       "<style scoped>\n",
       "    .dataframe tbody tr th:only-of-type {\n",
       "        vertical-align: middle;\n",
       "    }\n",
       "\n",
       "    .dataframe tbody tr th {\n",
       "        vertical-align: top;\n",
       "    }\n",
       "\n",
       "    .dataframe thead th {\n",
       "        text-align: right;\n",
       "    }\n",
       "</style>\n",
       "<table border=\"1\" class=\"dataframe\">\n",
       "  <thead>\n",
       "    <tr style=\"text-align: right;\">\n",
       "      <th></th>\n",
       "      <th>id</th>\n",
       "      <th>date</th>\n",
       "      <th>first_name</th>\n",
       "      <th>last_name</th>\n",
       "      <th>email</th>\n",
       "      <th>gender</th>\n",
       "      <th>ip_address</th>\n",
       "      <th>country</th>\n",
       "      <th>price_paid</th>\n",
       "      <th>tax</th>\n",
       "    </tr>\n",
       "  </thead>\n",
       "  <tbody>\n",
       "    <tr>\n",
       "      <th>3</th>\n",
       "      <td>4</td>\n",
       "      <td>03/19/2021</td>\n",
       "      <td>Grata</td>\n",
       "      <td>Brantl</td>\n",
       "      <td>gbrantl3@umn.edu</td>\n",
       "      <td>Female</td>\n",
       "      <td>5.140.237.101</td>\n",
       "      <td>United States</td>\n",
       "      <td>$3.70</td>\n",
       "      <td>20.0</td>\n",
       "    </tr>\n",
       "    <tr>\n",
       "      <th>4</th>\n",
       "      <td>5</td>\n",
       "      <td>03/24/2021</td>\n",
       "      <td>Kanya</td>\n",
       "      <td>Beasant</td>\n",
       "      <td>kbeasant4@jigsy.com</td>\n",
       "      <td>Male</td>\n",
       "      <td>106.252.162.233</td>\n",
       "      <td>Morocco</td>\n",
       "      <td>$9.24</td>\n",
       "      <td>20.0</td>\n",
       "    </tr>\n",
       "    <tr>\n",
       "      <th>5</th>\n",
       "      <td>6</td>\n",
       "      <td>03/25/2021</td>\n",
       "      <td>Titos</td>\n",
       "      <td>Braybrooke</td>\n",
       "      <td>tbraybrooke5@umn.edu</td>\n",
       "      <td>Female</td>\n",
       "      <td>173.100.21.179</td>\n",
       "      <td>United States</td>\n",
       "      <td>$5.82</td>\n",
       "      <td>NaN</td>\n",
       "    </tr>\n",
       "  </tbody>\n",
       "</table>\n",
       "</div>"
      ],
      "text/plain": [
       "   id        date first_name   last_name                 email  gender  \\\n",
       "3   4  03/19/2021      Grata      Brantl      gbrantl3@umn.edu  Female   \n",
       "4   5  03/24/2021      Kanya     Beasant   kbeasant4@jigsy.com    Male   \n",
       "5   6  03/25/2021      Titos  Braybrooke  tbraybrooke5@umn.edu  Female   \n",
       "\n",
       "        ip_address        country price_paid   tax  \n",
       "3    5.140.237.101  United States      $3.70  20.0  \n",
       "4  106.252.162.233        Morocco      $9.24  20.0  \n",
       "5   173.100.21.179  United States      $5.82   NaN  "
      ]
     },
     "execution_count": 11,
     "metadata": {},
     "output_type": "execute_result"
    }
   ],
   "source": [
    "df[3:6]"
   ]
  },
  {
   "cell_type": "code",
   "execution_count": 12,
   "id": "69cdc23d-ee30-4e12-b22e-7db985d33546",
   "metadata": {},
   "outputs": [
    {
     "data": {
      "text/html": [
       "<div>\n",
       "<style scoped>\n",
       "    .dataframe tbody tr th:only-of-type {\n",
       "        vertical-align: middle;\n",
       "    }\n",
       "\n",
       "    .dataframe tbody tr th {\n",
       "        vertical-align: top;\n",
       "    }\n",
       "\n",
       "    .dataframe thead th {\n",
       "        text-align: right;\n",
       "    }\n",
       "</style>\n",
       "<table border=\"1\" class=\"dataframe\">\n",
       "  <thead>\n",
       "    <tr style=\"text-align: right;\">\n",
       "      <th></th>\n",
       "      <th>id</th>\n",
       "      <th>date</th>\n",
       "      <th>first_name</th>\n",
       "      <th>last_name</th>\n",
       "      <th>gender</th>\n",
       "      <th>ip_address</th>\n",
       "      <th>country</th>\n",
       "      <th>price_paid</th>\n",
       "      <th>tax</th>\n",
       "    </tr>\n",
       "    <tr>\n",
       "      <th>email</th>\n",
       "      <th></th>\n",
       "      <th></th>\n",
       "      <th></th>\n",
       "      <th></th>\n",
       "      <th></th>\n",
       "      <th></th>\n",
       "      <th></th>\n",
       "      <th></th>\n",
       "      <th></th>\n",
       "    </tr>\n",
       "  </thead>\n",
       "  <tbody>\n",
       "    <tr>\n",
       "      <th>malders0@shop-pro.jp</th>\n",
       "      <td>1</td>\n",
       "      <td>03/28/2021</td>\n",
       "      <td>Marylin</td>\n",
       "      <td>Alders</td>\n",
       "      <td>Male</td>\n",
       "      <td>160.119.8.119</td>\n",
       "      <td>Canada</td>\n",
       "      <td>$5.36</td>\n",
       "      <td>NaN</td>\n",
       "    </tr>\n",
       "    <tr>\n",
       "      <th>hharridge1@gnu.org</th>\n",
       "      <td>2</td>\n",
       "      <td>03/19/2021</td>\n",
       "      <td>Hinda</td>\n",
       "      <td>Harridge</td>\n",
       "      <td>Female</td>\n",
       "      <td>210.51.172.132</td>\n",
       "      <td>Canada</td>\n",
       "      <td>$8.32</td>\n",
       "      <td>NaN</td>\n",
       "    </tr>\n",
       "    <tr>\n",
       "      <th>ekilminster2@etsy.com</th>\n",
       "      <td>3</td>\n",
       "      <td>03/17/2021</td>\n",
       "      <td>Erl</td>\n",
       "      <td>Kilminster</td>\n",
       "      <td>Male</td>\n",
       "      <td>213.8.101.145</td>\n",
       "      <td>United States</td>\n",
       "      <td>$3.73</td>\n",
       "      <td>20.0</td>\n",
       "    </tr>\n",
       "    <tr>\n",
       "      <th>gbrantl3@umn.edu</th>\n",
       "      <td>4</td>\n",
       "      <td>03/19/2021</td>\n",
       "      <td>Grata</td>\n",
       "      <td>Brantl</td>\n",
       "      <td>Female</td>\n",
       "      <td>5.140.237.101</td>\n",
       "      <td>United States</td>\n",
       "      <td>$3.70</td>\n",
       "      <td>20.0</td>\n",
       "    </tr>\n",
       "    <tr>\n",
       "      <th>kbeasant4@jigsy.com</th>\n",
       "      <td>5</td>\n",
       "      <td>03/24/2021</td>\n",
       "      <td>Kanya</td>\n",
       "      <td>Beasant</td>\n",
       "      <td>Male</td>\n",
       "      <td>106.252.162.233</td>\n",
       "      <td>Morocco</td>\n",
       "      <td>$9.24</td>\n",
       "      <td>20.0</td>\n",
       "    </tr>\n",
       "    <tr>\n",
       "      <th>...</th>\n",
       "      <td>...</td>\n",
       "      <td>...</td>\n",
       "      <td>...</td>\n",
       "      <td>...</td>\n",
       "      <td>...</td>\n",
       "      <td>...</td>\n",
       "      <td>...</td>\n",
       "      <td>...</td>\n",
       "      <td>...</td>\n",
       "    </tr>\n",
       "    <tr>\n",
       "      <th>derrigorn@elpais.com</th>\n",
       "      <td>996</td>\n",
       "      <td>03/24/2021</td>\n",
       "      <td>Duff</td>\n",
       "      <td>Errigo</td>\n",
       "      <td>Female</td>\n",
       "      <td>193.84.247.144</td>\n",
       "      <td>France</td>\n",
       "      <td>$3.63</td>\n",
       "      <td>NaN</td>\n",
       "    </tr>\n",
       "    <tr>\n",
       "      <th>arastallro@toplist.cz</th>\n",
       "      <td>997</td>\n",
       "      <td>03/17/2021</td>\n",
       "      <td>Ame</td>\n",
       "      <td>Rastall</td>\n",
       "      <td>Female</td>\n",
       "      <td>188.219.12.109</td>\n",
       "      <td>NaN</td>\n",
       "      <td>$4.59</td>\n",
       "      <td>20.0</td>\n",
       "    </tr>\n",
       "    <tr>\n",
       "      <th>bstickelsrp@cloudflare.com</th>\n",
       "      <td>998</td>\n",
       "      <td>03/13/2021</td>\n",
       "      <td>Betty</td>\n",
       "      <td>Stickels</td>\n",
       "      <td>Male</td>\n",
       "      <td>199.80.60.87</td>\n",
       "      <td>United States</td>\n",
       "      <td>$7.54</td>\n",
       "      <td>20.0</td>\n",
       "    </tr>\n",
       "    <tr>\n",
       "      <th>ptesoerq@rakuten.co.jp</th>\n",
       "      <td>999</td>\n",
       "      <td>03/17/2021</td>\n",
       "      <td>Paquito</td>\n",
       "      <td>Tesoe</td>\n",
       "      <td>Male</td>\n",
       "      <td>0.183.63.11</td>\n",
       "      <td>United States</td>\n",
       "      <td>$5.81</td>\n",
       "      <td>NaN</td>\n",
       "    </tr>\n",
       "    <tr>\n",
       "      <th>rpringuerrr@house.gov</th>\n",
       "      <td>1000</td>\n",
       "      <td>03/23/2021</td>\n",
       "      <td>Rochelle</td>\n",
       "      <td>Pringuer</td>\n",
       "      <td>NaN</td>\n",
       "      <td>170.193.249.83</td>\n",
       "      <td>Canada</td>\n",
       "      <td>$8.01</td>\n",
       "      <td>20.0</td>\n",
       "    </tr>\n",
       "  </tbody>\n",
       "</table>\n",
       "<p>1000 rows × 9 columns</p>\n",
       "</div>"
      ],
      "text/plain": [
       "                              id        date first_name   last_name  gender  \\\n",
       "email                                                                         \n",
       "malders0@shop-pro.jp           1  03/28/2021    Marylin      Alders    Male   \n",
       "hharridge1@gnu.org             2  03/19/2021      Hinda    Harridge  Female   \n",
       "ekilminster2@etsy.com          3  03/17/2021        Erl  Kilminster    Male   \n",
       "gbrantl3@umn.edu               4  03/19/2021      Grata      Brantl  Female   \n",
       "kbeasant4@jigsy.com            5  03/24/2021      Kanya     Beasant    Male   \n",
       "...                          ...         ...        ...         ...     ...   \n",
       "derrigorn@elpais.com         996  03/24/2021       Duff      Errigo  Female   \n",
       "arastallro@toplist.cz        997  03/17/2021        Ame     Rastall  Female   \n",
       "bstickelsrp@cloudflare.com   998  03/13/2021      Betty    Stickels    Male   \n",
       "ptesoerq@rakuten.co.jp       999  03/17/2021    Paquito       Tesoe    Male   \n",
       "rpringuerrr@house.gov       1000  03/23/2021   Rochelle    Pringuer     NaN   \n",
       "\n",
       "                                 ip_address        country price_paid   tax  \n",
       "email                                                                        \n",
       "malders0@shop-pro.jp          160.119.8.119         Canada      $5.36   NaN  \n",
       "hharridge1@gnu.org           210.51.172.132         Canada      $8.32   NaN  \n",
       "ekilminster2@etsy.com         213.8.101.145  United States      $3.73  20.0  \n",
       "gbrantl3@umn.edu              5.140.237.101  United States      $3.70  20.0  \n",
       "kbeasant4@jigsy.com         106.252.162.233        Morocco      $9.24  20.0  \n",
       "...                                     ...            ...        ...   ...  \n",
       "derrigorn@elpais.com         193.84.247.144         France      $3.63   NaN  \n",
       "arastallro@toplist.cz        188.219.12.109            NaN      $4.59  20.0  \n",
       "bstickelsrp@cloudflare.com     199.80.60.87  United States      $7.54  20.0  \n",
       "ptesoerq@rakuten.co.jp          0.183.63.11  United States      $5.81   NaN  \n",
       "rpringuerrr@house.gov        170.193.249.83         Canada      $8.01  20.0  \n",
       "\n",
       "[1000 rows x 9 columns]"
      ]
     },
     "execution_count": 12,
     "metadata": {},
     "output_type": "execute_result"
    }
   ],
   "source": [
    " df.set_index(\"email\")"
   ]
  },
  {
   "cell_type": "code",
   "execution_count": 13,
   "id": "42ceea37-6d3c-45a5-9288-f2d32c5e6bfa",
   "metadata": {},
   "outputs": [
    {
     "ename": "NameError",
     "evalue": "name 'malders0' is not defined",
     "output_type": "error",
     "traceback": [
      "\u001b[1;31m---------------------------------------------------------------------------\u001b[0m",
      "\u001b[1;31mNameError\u001b[0m                                 Traceback (most recent call last)",
      "Cell \u001b[1;32mIn[13], line 1\u001b[0m\n\u001b[1;32m----> 1\u001b[0m df\u001b[38;5;241m.\u001b[39mloc[\u001b[43mmalders0\u001b[49m\u001b[38;5;129m@shop\u001b[39m\u001b[38;5;241m-\u001b[39mpro\u001b[38;5;241m.\u001b[39mjp, ptesoerq\u001b[38;5;129m@rakuten\u001b[39m\u001b[38;5;241m.\u001b[39mco\u001b[38;5;241m.\u001b[39mjp]\n",
      "\u001b[1;31mNameError\u001b[0m: name 'malders0' is not defined"
     ]
    }
   ],
   "source": [
    "df.loc[malders0@shop-pro.jp, ptesoerq@rakuten.co.jp]"
   ]
  },
  {
   "cell_type": "code",
   "execution_count": 14,
   "id": "d52792c4-4101-483e-91bb-2784f1e4b0f4",
   "metadata": {},
   "outputs": [
    {
     "ename": "KeyError",
     "evalue": "'ptesoerq@rakuten.co.jp'",
     "output_type": "error",
     "traceback": [
      "\u001b[1;31m---------------------------------------------------------------------------\u001b[0m",
      "\u001b[1;31mKeyError\u001b[0m                                  Traceback (most recent call last)",
      "File \u001b[1;32mC:\\Python311\\Lib\\site-packages\\pandas\\core\\indexes\\base.py:3805\u001b[0m, in \u001b[0;36mIndex.get_loc\u001b[1;34m(self, key)\u001b[0m\n\u001b[0;32m   3804\u001b[0m \u001b[38;5;28;01mtry\u001b[39;00m:\n\u001b[1;32m-> 3805\u001b[0m     \u001b[38;5;28;01mreturn\u001b[39;00m \u001b[38;5;28;43mself\u001b[39;49m\u001b[38;5;241;43m.\u001b[39;49m\u001b[43m_engine\u001b[49m\u001b[38;5;241;43m.\u001b[39;49m\u001b[43mget_loc\u001b[49m\u001b[43m(\u001b[49m\u001b[43mcasted_key\u001b[49m\u001b[43m)\u001b[49m\n\u001b[0;32m   3806\u001b[0m \u001b[38;5;28;01mexcept\u001b[39;00m \u001b[38;5;167;01mKeyError\u001b[39;00m \u001b[38;5;28;01mas\u001b[39;00m err:\n",
      "File \u001b[1;32mindex.pyx:167\u001b[0m, in \u001b[0;36mpandas._libs.index.IndexEngine.get_loc\u001b[1;34m()\u001b[0m\n",
      "File \u001b[1;32mindex.pyx:196\u001b[0m, in \u001b[0;36mpandas._libs.index.IndexEngine.get_loc\u001b[1;34m()\u001b[0m\n",
      "File \u001b[1;32mpandas\\\\_libs\\\\hashtable_class_helper.pxi:7081\u001b[0m, in \u001b[0;36mpandas._libs.hashtable.PyObjectHashTable.get_item\u001b[1;34m()\u001b[0m\n",
      "File \u001b[1;32mpandas\\\\_libs\\\\hashtable_class_helper.pxi:7089\u001b[0m, in \u001b[0;36mpandas._libs.hashtable.PyObjectHashTable.get_item\u001b[1;34m()\u001b[0m\n",
      "\u001b[1;31mKeyError\u001b[0m: 'ptesoerq@rakuten.co.jp'",
      "\nThe above exception was the direct cause of the following exception:\n",
      "\u001b[1;31mKeyError\u001b[0m                                  Traceback (most recent call last)",
      "Cell \u001b[1;32mIn[14], line 1\u001b[0m\n\u001b[1;32m----> 1\u001b[0m \u001b[43mdf\u001b[49m\u001b[38;5;241;43m.\u001b[39;49m\u001b[43mloc\u001b[49m\u001b[43m[\u001b[49m\u001b[38;5;124;43m\"\u001b[39;49m\u001b[38;5;124;43mmalders0@shop-pro.jp\u001b[39;49m\u001b[38;5;124;43m\"\u001b[39;49m\u001b[43m,\u001b[49m\u001b[43m \u001b[49m\u001b[38;5;124;43m\"\u001b[39;49m\u001b[38;5;124;43mptesoerq@rakuten.co.jp\u001b[39;49m\u001b[38;5;124;43m\"\u001b[39;49m\u001b[43m]\u001b[49m\n",
      "File \u001b[1;32mC:\\Python311\\Lib\\site-packages\\pandas\\core\\indexing.py:1183\u001b[0m, in \u001b[0;36m_LocationIndexer.__getitem__\u001b[1;34m(self, key)\u001b[0m\n\u001b[0;32m   1181\u001b[0m     key \u001b[38;5;241m=\u001b[39m \u001b[38;5;28mtuple\u001b[39m(com\u001b[38;5;241m.\u001b[39mapply_if_callable(x, \u001b[38;5;28mself\u001b[39m\u001b[38;5;241m.\u001b[39mobj) \u001b[38;5;28;01mfor\u001b[39;00m x \u001b[38;5;129;01min\u001b[39;00m key)\n\u001b[0;32m   1182\u001b[0m     \u001b[38;5;28;01mif\u001b[39;00m \u001b[38;5;28mself\u001b[39m\u001b[38;5;241m.\u001b[39m_is_scalar_access(key):\n\u001b[1;32m-> 1183\u001b[0m         \u001b[38;5;28;01mreturn\u001b[39;00m \u001b[38;5;28;43mself\u001b[39;49m\u001b[38;5;241;43m.\u001b[39;49m\u001b[43mobj\u001b[49m\u001b[38;5;241;43m.\u001b[39;49m\u001b[43m_get_value\u001b[49m\u001b[43m(\u001b[49m\u001b[38;5;241;43m*\u001b[39;49m\u001b[43mkey\u001b[49m\u001b[43m,\u001b[49m\u001b[43m \u001b[49m\u001b[43mtakeable\u001b[49m\u001b[38;5;241;43m=\u001b[39;49m\u001b[38;5;28;43mself\u001b[39;49m\u001b[38;5;241;43m.\u001b[39;49m\u001b[43m_takeable\u001b[49m\u001b[43m)\u001b[49m\n\u001b[0;32m   1184\u001b[0m     \u001b[38;5;28;01mreturn\u001b[39;00m \u001b[38;5;28mself\u001b[39m\u001b[38;5;241m.\u001b[39m_getitem_tuple(key)\n\u001b[0;32m   1185\u001b[0m \u001b[38;5;28;01melse\u001b[39;00m:\n\u001b[0;32m   1186\u001b[0m     \u001b[38;5;66;03m# we by definition only have the 0th axis\u001b[39;00m\n",
      "File \u001b[1;32mC:\\Python311\\Lib\\site-packages\\pandas\\core\\frame.py:4214\u001b[0m, in \u001b[0;36mDataFrame._get_value\u001b[1;34m(self, index, col, takeable)\u001b[0m\n\u001b[0;32m   4211\u001b[0m     series \u001b[38;5;241m=\u001b[39m \u001b[38;5;28mself\u001b[39m\u001b[38;5;241m.\u001b[39m_ixs(col, axis\u001b[38;5;241m=\u001b[39m\u001b[38;5;241m1\u001b[39m)\n\u001b[0;32m   4212\u001b[0m     \u001b[38;5;28;01mreturn\u001b[39;00m series\u001b[38;5;241m.\u001b[39m_values[index]\n\u001b[1;32m-> 4214\u001b[0m series \u001b[38;5;241m=\u001b[39m \u001b[38;5;28;43mself\u001b[39;49m\u001b[38;5;241;43m.\u001b[39;49m\u001b[43m_get_item_cache\u001b[49m\u001b[43m(\u001b[49m\u001b[43mcol\u001b[49m\u001b[43m)\u001b[49m\n\u001b[0;32m   4215\u001b[0m engine \u001b[38;5;241m=\u001b[39m \u001b[38;5;28mself\u001b[39m\u001b[38;5;241m.\u001b[39mindex\u001b[38;5;241m.\u001b[39m_engine\n\u001b[0;32m   4217\u001b[0m \u001b[38;5;28;01mif\u001b[39;00m \u001b[38;5;129;01mnot\u001b[39;00m \u001b[38;5;28misinstance\u001b[39m(\u001b[38;5;28mself\u001b[39m\u001b[38;5;241m.\u001b[39mindex, MultiIndex):\n\u001b[0;32m   4218\u001b[0m     \u001b[38;5;66;03m# CategoricalIndex: Trying to use the engine fastpath may give incorrect\u001b[39;00m\n\u001b[0;32m   4219\u001b[0m     \u001b[38;5;66;03m#  results if our categories are integers that dont match our codes\u001b[39;00m\n\u001b[0;32m   4220\u001b[0m     \u001b[38;5;66;03m# IntervalIndex: IntervalTree has no get_loc\u001b[39;00m\n",
      "File \u001b[1;32mC:\\Python311\\Lib\\site-packages\\pandas\\core\\frame.py:4638\u001b[0m, in \u001b[0;36mDataFrame._get_item_cache\u001b[1;34m(self, item)\u001b[0m\n\u001b[0;32m   4633\u001b[0m res \u001b[38;5;241m=\u001b[39m cache\u001b[38;5;241m.\u001b[39mget(item)\n\u001b[0;32m   4634\u001b[0m \u001b[38;5;28;01mif\u001b[39;00m res \u001b[38;5;129;01mis\u001b[39;00m \u001b[38;5;28;01mNone\u001b[39;00m:\n\u001b[0;32m   4635\u001b[0m     \u001b[38;5;66;03m# All places that call _get_item_cache have unique columns,\u001b[39;00m\n\u001b[0;32m   4636\u001b[0m     \u001b[38;5;66;03m#  pending resolution of GH#33047\u001b[39;00m\n\u001b[1;32m-> 4638\u001b[0m     loc \u001b[38;5;241m=\u001b[39m \u001b[38;5;28;43mself\u001b[39;49m\u001b[38;5;241;43m.\u001b[39;49m\u001b[43mcolumns\u001b[49m\u001b[38;5;241;43m.\u001b[39;49m\u001b[43mget_loc\u001b[49m\u001b[43m(\u001b[49m\u001b[43mitem\u001b[49m\u001b[43m)\u001b[49m\n\u001b[0;32m   4639\u001b[0m     res \u001b[38;5;241m=\u001b[39m \u001b[38;5;28mself\u001b[39m\u001b[38;5;241m.\u001b[39m_ixs(loc, axis\u001b[38;5;241m=\u001b[39m\u001b[38;5;241m1\u001b[39m)\n\u001b[0;32m   4641\u001b[0m     cache[item] \u001b[38;5;241m=\u001b[39m res\n",
      "File \u001b[1;32mC:\\Python311\\Lib\\site-packages\\pandas\\core\\indexes\\base.py:3812\u001b[0m, in \u001b[0;36mIndex.get_loc\u001b[1;34m(self, key)\u001b[0m\n\u001b[0;32m   3807\u001b[0m     \u001b[38;5;28;01mif\u001b[39;00m \u001b[38;5;28misinstance\u001b[39m(casted_key, \u001b[38;5;28mslice\u001b[39m) \u001b[38;5;129;01mor\u001b[39;00m (\n\u001b[0;32m   3808\u001b[0m         \u001b[38;5;28misinstance\u001b[39m(casted_key, abc\u001b[38;5;241m.\u001b[39mIterable)\n\u001b[0;32m   3809\u001b[0m         \u001b[38;5;129;01mand\u001b[39;00m \u001b[38;5;28many\u001b[39m(\u001b[38;5;28misinstance\u001b[39m(x, \u001b[38;5;28mslice\u001b[39m) \u001b[38;5;28;01mfor\u001b[39;00m x \u001b[38;5;129;01min\u001b[39;00m casted_key)\n\u001b[0;32m   3810\u001b[0m     ):\n\u001b[0;32m   3811\u001b[0m         \u001b[38;5;28;01mraise\u001b[39;00m InvalidIndexError(key)\n\u001b[1;32m-> 3812\u001b[0m     \u001b[38;5;28;01mraise\u001b[39;00m \u001b[38;5;167;01mKeyError\u001b[39;00m(key) \u001b[38;5;28;01mfrom\u001b[39;00m \u001b[38;5;21;01merr\u001b[39;00m\n\u001b[0;32m   3813\u001b[0m \u001b[38;5;28;01mexcept\u001b[39;00m \u001b[38;5;167;01mTypeError\u001b[39;00m:\n\u001b[0;32m   3814\u001b[0m     \u001b[38;5;66;03m# If we have a listlike key, _check_indexing_error will raise\u001b[39;00m\n\u001b[0;32m   3815\u001b[0m     \u001b[38;5;66;03m#  InvalidIndexError. Otherwise we fall through and re-raise\u001b[39;00m\n\u001b[0;32m   3816\u001b[0m     \u001b[38;5;66;03m#  the TypeError.\u001b[39;00m\n\u001b[0;32m   3817\u001b[0m     \u001b[38;5;28mself\u001b[39m\u001b[38;5;241m.\u001b[39m_check_indexing_error(key)\n",
      "\u001b[1;31mKeyError\u001b[0m: 'ptesoerq@rakuten.co.jp'"
     ]
    }
   ],
   "source": [
    "df.loc[\"malders0@shop-pro.jp\", \"ptesoerq@rakuten.co.jp\"]"
   ]
  },
  {
   "cell_type": "code",
   "execution_count": 16,
   "id": "bd464dd6-3c21-4055-a8a2-cb22002fcc7a",
   "metadata": {},
   "outputs": [
    {
     "data": {
      "text/plain": [
       "id                        1\n",
       "date             03/28/2021\n",
       "first_name          Marylin\n",
       "last_name            Alders\n",
       "gender                 Male\n",
       "ip_address    160.119.8.119\n",
       "country              Canada\n",
       "price_paid            $5.36\n",
       "tax                     NaN\n",
       "Name: malders0@shop-pro.jp, dtype: object"
      ]
     },
     "execution_count": 16,
     "metadata": {},
     "output_type": "execute_result"
    }
   ],
   "source": [
    "df_em=df.set_index(\"email\")\n",
    "df_em.loc[\"malders0@shop-pro.jp\"]"
   ]
  },
  {
   "cell_type": "code",
   "execution_count": 17,
   "id": "20877f00-cfce-4dc9-bfa8-deba5e0d1fa1",
   "metadata": {},
   "outputs": [
    {
     "ename": "AttributeError",
     "evalue": "'DataFrame' object has no attribute 'email'",
     "output_type": "error",
     "traceback": [
      "\u001b[1;31m---------------------------------------------------------------------------\u001b[0m",
      "\u001b[1;31mAttributeError\u001b[0m                            Traceback (most recent call last)",
      "\u001b[1;32m~\\AppData\\Local\\Temp\\ipykernel_24020\\70769606.py\u001b[0m in \u001b[0;36m?\u001b[1;34m()\u001b[0m\n\u001b[0;32m      1\u001b[0m \u001b[0mdf_em\u001b[0m\u001b[1;33m=\u001b[0m\u001b[0mdf\u001b[0m\u001b[1;33m.\u001b[0m\u001b[0mset_index\u001b[0m\u001b[1;33m(\u001b[0m\u001b[1;34m\"email\"\u001b[0m\u001b[1;33m)\u001b[0m\u001b[1;33m\u001b[0m\u001b[1;33m\u001b[0m\u001b[0m\n\u001b[1;32m----> 2\u001b[1;33m \u001b[0mdf_em\u001b[0m\u001b[1;33m.\u001b[0m\u001b[0memail\u001b[0m\u001b[1;33m(\u001b[0m\u001b[1;34m\"malders0@shop-pro.jp\"\u001b[0m\u001b[1;33m)\u001b[0m\u001b[1;33m\u001b[0m\u001b[1;33m\u001b[0m\u001b[0m\n\u001b[0m",
      "\u001b[1;32mC:\\Python311\\Lib\\site-packages\\pandas\\core\\generic.py\u001b[0m in \u001b[0;36m?\u001b[1;34m(self, name)\u001b[0m\n\u001b[0;32m   6295\u001b[0m             \u001b[1;32mand\u001b[0m \u001b[0mname\u001b[0m \u001b[1;32mnot\u001b[0m \u001b[1;32min\u001b[0m \u001b[0mself\u001b[0m\u001b[1;33m.\u001b[0m\u001b[0m_accessors\u001b[0m\u001b[1;33m\u001b[0m\u001b[1;33m\u001b[0m\u001b[0m\n\u001b[0;32m   6296\u001b[0m             \u001b[1;32mand\u001b[0m \u001b[0mself\u001b[0m\u001b[1;33m.\u001b[0m\u001b[0m_info_axis\u001b[0m\u001b[1;33m.\u001b[0m\u001b[0m_can_hold_identifiers_and_holds_name\u001b[0m\u001b[1;33m(\u001b[0m\u001b[0mname\u001b[0m\u001b[1;33m)\u001b[0m\u001b[1;33m\u001b[0m\u001b[1;33m\u001b[0m\u001b[0m\n\u001b[0;32m   6297\u001b[0m         ):\n\u001b[0;32m   6298\u001b[0m             \u001b[1;32mreturn\u001b[0m \u001b[0mself\u001b[0m\u001b[1;33m[\u001b[0m\u001b[0mname\u001b[0m\u001b[1;33m]\u001b[0m\u001b[1;33m\u001b[0m\u001b[1;33m\u001b[0m\u001b[0m\n\u001b[1;32m-> 6299\u001b[1;33m         \u001b[1;32mreturn\u001b[0m \u001b[0mobject\u001b[0m\u001b[1;33m.\u001b[0m\u001b[0m__getattribute__\u001b[0m\u001b[1;33m(\u001b[0m\u001b[0mself\u001b[0m\u001b[1;33m,\u001b[0m \u001b[0mname\u001b[0m\u001b[1;33m)\u001b[0m\u001b[1;33m\u001b[0m\u001b[1;33m\u001b[0m\u001b[0m\n\u001b[0m",
      "\u001b[1;31mAttributeError\u001b[0m: 'DataFrame' object has no attribute 'email'"
     ]
    }
   ],
   "source": [
    "df_em=df.set_index(\"email\")\n",
    "df_em.email(\"malders0@shop-pro.jp\")"
   ]
  },
  {
   "cell_type": "code",
   "execution_count": 18,
   "id": "dca392f6-adba-4ae7-8f44-334ee98bffde",
   "metadata": {},
   "outputs": [
    {
     "data": {
      "text/html": [
       "<div>\n",
       "<style scoped>\n",
       "    .dataframe tbody tr th:only-of-type {\n",
       "        vertical-align: middle;\n",
       "    }\n",
       "\n",
       "    .dataframe tbody tr th {\n",
       "        vertical-align: top;\n",
       "    }\n",
       "\n",
       "    .dataframe thead th {\n",
       "        text-align: right;\n",
       "    }\n",
       "</style>\n",
       "<table border=\"1\" class=\"dataframe\">\n",
       "  <thead>\n",
       "    <tr style=\"text-align: right;\">\n",
       "      <th></th>\n",
       "      <th>id</th>\n",
       "      <th>date</th>\n",
       "      <th>first_name</th>\n",
       "      <th>last_name</th>\n",
       "      <th>gender</th>\n",
       "      <th>ip_address</th>\n",
       "      <th>country</th>\n",
       "      <th>price_paid</th>\n",
       "      <th>tax</th>\n",
       "    </tr>\n",
       "    <tr>\n",
       "      <th>email</th>\n",
       "      <th></th>\n",
       "      <th></th>\n",
       "      <th></th>\n",
       "      <th></th>\n",
       "      <th></th>\n",
       "      <th></th>\n",
       "      <th></th>\n",
       "      <th></th>\n",
       "      <th></th>\n",
       "    </tr>\n",
       "  </thead>\n",
       "  <tbody>\n",
       "    <tr>\n",
       "      <th>malders0@shop-pro.jp</th>\n",
       "      <td>1</td>\n",
       "      <td>03/28/2021</td>\n",
       "      <td>Marylin</td>\n",
       "      <td>Alders</td>\n",
       "      <td>Male</td>\n",
       "      <td>160.119.8.119</td>\n",
       "      <td>Canada</td>\n",
       "      <td>$5.36</td>\n",
       "      <td>NaN</td>\n",
       "    </tr>\n",
       "    <tr>\n",
       "      <th>gbrantl3@umn.edu</th>\n",
       "      <td>4</td>\n",
       "      <td>03/19/2021</td>\n",
       "      <td>Grata</td>\n",
       "      <td>Brantl</td>\n",
       "      <td>Female</td>\n",
       "      <td>5.140.237.101</td>\n",
       "      <td>United States</td>\n",
       "      <td>$3.70</td>\n",
       "      <td>20.0</td>\n",
       "    </tr>\n",
       "  </tbody>\n",
       "</table>\n",
       "</div>"
      ],
      "text/plain": [
       "                      id        date first_name last_name  gender  \\\n",
       "email                                                               \n",
       "malders0@shop-pro.jp   1  03/28/2021    Marylin    Alders    Male   \n",
       "gbrantl3@umn.edu       4  03/19/2021      Grata    Brantl  Female   \n",
       "\n",
       "                         ip_address        country price_paid   tax  \n",
       "email                                                                \n",
       "malders0@shop-pro.jp  160.119.8.119         Canada      $5.36   NaN  \n",
       "gbrantl3@umn.edu      5.140.237.101  United States      $3.70  20.0  "
      ]
     },
     "execution_count": 18,
     "metadata": {},
     "output_type": "execute_result"
    }
   ],
   "source": [
    "df_em.loc[[\"malders0@shop-pro.jp\",\"gbrantl3@umn.edu\"]]"
   ]
  },
  {
   "cell_type": "code",
   "execution_count": 20,
   "id": "f658ae38-39b1-4e62-9420-40e637a37306",
   "metadata": {},
   "outputs": [
    {
     "data": {
      "text/plain": [
       "pandas.core.series.Series"
      ]
     },
     "execution_count": 20,
     "metadata": {},
     "output_type": "execute_result"
    }
   ],
   "source": [
    "type(df_em.loc[\"malders0@shop-pro.jp\"])"
   ]
  },
  {
   "cell_type": "code",
   "execution_count": null,
   "id": "f4b4c3cb-e8d2-4514-ac0b-1f5b42eca61f",
   "metadata": {},
   "outputs": [],
   "source": [
    "#cela vas chercher la ligne attribuer a l'@ donné puis retournes ces attributs\n"
   ]
  },
  {
   "cell_type": "code",
   "execution_count": null,
   "id": "173012c8-0138-46a8-b651-95d06df8221b",
   "metadata": {},
   "outputs": [],
   "source": []
  }
 ],
 "metadata": {
  "kernelspec": {
   "display_name": "Python 3 (ipykernel)",
   "language": "python",
   "name": "python3"
  },
  "language_info": {
   "codemirror_mode": {
    "name": "ipython",
    "version": 3
   },
   "file_extension": ".py",
   "mimetype": "text/x-python",
   "name": "python",
   "nbconvert_exporter": "python",
   "pygments_lexer": "ipython3",
   "version": "3.13.3"
  }
 },
 "nbformat": 4,
 "nbformat_minor": 5
}
